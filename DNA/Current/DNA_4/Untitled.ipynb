{
 "cells": [
  {
   "cell_type": "code",
   "execution_count": 20,
   "id": "statistical-southeast",
   "metadata": {},
   "outputs": [],
   "source": [
    "\n",
    "import os, pickle, time, glob, sys, copy\n",
    "import numpy as np \n",
    "import scipy\n",
    "import mdtraj as md \n",
    "import MDAnalysis as mda\n",
    "import nglview as nv \n",
    "from ipywidgets import interactive, VBox\n",
    "import sklearn.preprocessing as pre\n",
    "from sklearn.cluster import KMeans\n",
    "from sklearn.metrics import silhouette_samples, silhouette_score\n",
    "import matplotlib.pyplot as plt\n",
    "import matplotlib.cm as cm\n",
    "from mpl_toolkits.mplot3d import Axes3D\n",
    "import pyemma as py \n",
    "from pyemma.util.contexts import settings\n",
    "import warnings\n",
    "warnings.filterwarnings('ignore')\n",
    "\n",
    "os.environ['CUDA_DEVICE_ORDER'] = 'PCI_BUS_ID'\n",
    "os.environ['CUDA_VISIBLE_DEVICES'] = '1' \n",
    "\n",
    "\n",
    "import tensorflow as tf\n",
    "import keras.backend as K\n",
    "from keras.models import load_model\n",
    "from keras.callbacks import EarlyStopping\n",
    "config = tf.ConfigProto()\n",
    "config.gpu_options.allow_growth = True\n",
    "K.tensorflow_backend.set_session(tf.Session(config=config))\n",
    "\n",
    "\n",
    "import sys\n",
    "from hde import *#__init__, hde, propagator, molgen, analysis #\n",
    "\n"
   ]
  },
  {
   "cell_type": "code",
   "execution_count": 25,
   "id": "superb-still",
   "metadata": {},
   "outputs": [
    {
     "name": "stdout",
     "output_type": "stream",
     "text": [
      "(4, 250000, 5)\n",
      "(1000000, 5)\n"
     ]
    }
   ],
   "source": [
    "source_folds = \"/media/joseph/Memorex USB/liew/MikeDNA-SRV/individual_trajectories/\"\n",
    "avail_srvs = [0,10,12,13]\n",
    "\n",
    "num_srvs = len(avail_srvs)\n",
    "traj_frame_length = 250000\n",
    "hde_coords = np.zeros((num_srvs*traj_frame_length, 5))\n",
    "for i in range(num_srvs):\n",
    "    hde_coords[i*traj_frame_length:(i+1)*traj_frame_length, :] = np.load(source_folds+str(avail_srvs[i])+\"_full_srv.npy\")\n",
    "\n",
    "hde_coords2 = np.array([hde_coords[i*traj_frame_length:(i+1)*traj_frame_length] for i in range(num_srvs)])\n",
    "print(hde_coords2.shape)\n",
    "print(hde_coords.shape)\n",
    "\n",
    "dim_prop = 5\n",
    "traj_prop2 = copy.deepcopy(hde_coords2[:,:,:dim_prop])\n",
    "prop_scaler2 = pre.MinMaxScaler(feature_range=(0,1))\n",
    "traj_prop = copy.deepcopy(hde_coords[:,:dim_prop])\n",
    "prop_scaler = pre.MinMaxScaler(feature_range=(0,1))\n"
   ]
  },
  {
   "cell_type": "code",
   "execution_count": 26,
   "id": "least-knife",
   "metadata": {},
   "outputs": [
    {
     "data": {
      "text/plain": [
       "(1000000, 5)"
      ]
     },
     "execution_count": 26,
     "metadata": {},
     "output_type": "execute_result"
    }
   ],
   "source": [
    "traj_prop.shape"
   ]
  },
  {
   "cell_type": "code",
   "execution_count": 27,
   "id": "simplified-identifier",
   "metadata": {},
   "outputs": [
    {
     "data": {
      "text/plain": [
       "(4, 250000, 5)"
      ]
     },
     "execution_count": 27,
     "metadata": {},
     "output_type": "execute_result"
    }
   ],
   "source": [
    "traj_prop2.shape"
   ]
  },
  {
   "cell_type": "code",
   "execution_count": 28,
   "id": "split-master",
   "metadata": {},
   "outputs": [],
   "source": [
    "traj_prop_scaled2 = [prop_scaler2.fit_transform(traj_prop2[i]) for i in range(num_srvs)]\n",
    "traj_prop_scaled = prop_scaler.fit_transform(traj_prop)"
   ]
  },
  {
   "cell_type": "code",
   "execution_count": 29,
   "id": "israeli-theme",
   "metadata": {},
   "outputs": [
    {
     "data": {
      "text/plain": [
       "(4, 250000, 5)"
      ]
     },
     "execution_count": 29,
     "metadata": {},
     "output_type": "execute_result"
    }
   ],
   "source": [
    "traj_prop_scaled.shape\n",
    "np.array(traj_prop_scaled2).shape"
   ]
  },
  {
   "cell_type": "code",
   "execution_count": 31,
   "id": "australian-extension",
   "metadata": {},
   "outputs": [
    {
     "data": {
      "text/plain": [
       "list"
      ]
     },
     "execution_count": 31,
     "metadata": {},
     "output_type": "execute_result"
    }
   ],
   "source": [
    "type(traj_prop_scaled2)"
   ]
  },
  {
   "cell_type": "code",
   "execution_count": null,
   "id": "returning-paste",
   "metadata": {},
   "outputs": [],
   "source": []
  }
 ],
 "metadata": {
  "kernelspec": {
   "display_name": "Python 3",
   "language": "python",
   "name": "python3"
  },
  "language_info": {
   "codemirror_mode": {
    "name": "ipython",
    "version": 3
   },
   "file_extension": ".py",
   "mimetype": "text/x-python",
   "name": "python",
   "nbconvert_exporter": "python",
   "pygments_lexer": "ipython3",
   "version": "3.6.9"
  }
 },
 "nbformat": 4,
 "nbformat_minor": 5
}
