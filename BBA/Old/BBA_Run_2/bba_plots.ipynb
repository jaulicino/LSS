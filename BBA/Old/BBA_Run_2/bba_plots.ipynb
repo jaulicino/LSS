{
 "cells": [
  {
   "cell_type": "markdown",
   "metadata": {},
   "source": [
    "# prototyping LSS pipeline"
   ]
  },
  {
   "cell_type": "markdown",
   "metadata": {},
   "source": [
    "## setup"
   ]
  },
  {
   "cell_type": "code",
   "execution_count": 1,
   "metadata": {},
   "outputs": [],
   "source": [
    "%matplotlib inline\n",
    "%load_ext autoreload\n",
    "%autoreload 2"
   ]
  },
  {
   "cell_type": "code",
   "execution_count": 2,
   "metadata": {},
   "outputs": [
    {
     "name": "stderr",
     "output_type": "stream",
     "text": [
      "/home/joseph/anaconda3/envs/lss/lib/python3.6/site-packages/Bio/KDTree/__init__.py:25: BiopythonDeprecationWarning: Bio.KDTree has been deprecated, and we intend to remove it in a future release of Biopython. Please use Bio.PDB.kdtrees instead, which is functionally very similar.\n",
      "  BiopythonDeprecationWarning)\n",
      "/home/joseph/anaconda3/envs/lss/lib/python3.6/site-packages/MDAnalysis/due.py:88: UserWarning: No module named 'duecredit'\n",
      "  warnings.warn(str(err))\n"
     ]
    }
   ],
   "source": [
    "import os, pickle, time, glob, sys, copy\n",
    "import numpy as np \n",
    "import scipy\n",
    "import mdtraj as md \n",
    "import MDAnalysis as mda\n",
    "import nglview as nv \n",
    "from ipywidgets import interactive, VBox\n",
    "import sklearn.preprocessing as pre\n",
    "from sklearn.cluster import KMeans\n",
    "from sklearn.metrics import silhouette_samples, silhouette_score\n",
    "import matplotlib.pyplot as plt\n",
    "import matplotlib.cm as cm\n",
    "from mpl_toolkits.mplot3d import Axes3D\n",
    "import pyemma as py \n",
    "from pyemma.util.contexts import settings\n",
    "import warnings\n",
    "warnings.filterwarnings('ignore')"
   ]
  },
  {
   "cell_type": "code",
   "execution_count": 3,
   "metadata": {},
   "outputs": [],
   "source": [
    "os.environ['CUDA_DEVICE_ORDER'] = 'PCI_BUS_ID'\n",
    "os.environ['CUDA_VISIBLE_DEVICES'] = '1' "
   ]
  },
  {
   "cell_type": "code",
   "execution_count": 4,
   "metadata": {},
   "outputs": [
    {
     "name": "stderr",
     "output_type": "stream",
     "text": [
      "Using TensorFlow backend.\n"
     ]
    }
   ],
   "source": [
    "import tensorflow as tf\n",
    "import keras.backend as K\n",
    "from keras.models import load_model\n",
    "from keras.callbacks import EarlyStopping\n",
    "config = tf.ConfigProto()\n",
    "config.gpu_options.allow_growth = True\n",
    "K.tensorflow_backend.set_session(tf.Session(config=config))"
   ]
  },
  {
   "cell_type": "code",
   "execution_count": 5,
   "metadata": {
    "scrolled": true
   },
   "outputs": [],
   "source": [
    "import sys\n",
    "#__all__ = [\"hde\", \"propagator\", \"molgen\"]\n",
    "from hde import *#__init__, hde, propagator, molgen, analysis #"
   ]
  },
  {
   "cell_type": "markdown",
   "metadata": {},
   "source": [
    "## locating trajectory data"
   ]
  },
  {
   "cell_type": "code",
   "execution_count": 6,
   "metadata": {},
   "outputs": [
    {
     "name": "stdout",
     "output_type": "stream",
     "text": [
      "/media/joseph/Memorex USB/liew/Joe_Liew_LSS/Joe_Liew_LSS/BBA/3_DESRES-Trajectory_1FME-1-protein/DESRES-Trajectory_1FME-1-protein/1FME-1-protein/system.pdb\n",
      "/media/joseph/Memorex USB/liew/Joe_Liew_LSS/Joe_Liew_LSS/BBA/3_DESRES-Trajectory_1FME-1-protein/DESRES-Trajectory_1FME-1-protein/1FME-1-protein/system.pdb\n"
     ]
    },
    {
     "data": {
      "application/vnd.jupyter.widget-view+json": {
       "model_id": "928cb6151bb8462184db0fc5319e7d3a",
       "version_major": 2,
       "version_minor": 0
      },
      "text/plain": [
       "NGLWidget()"
      ]
     },
     "metadata": {},
     "output_type": "display_data"
    }
   ],
   "source": [
    "# DESRES Chignolin at 340 K\n",
    "# Lindorff-Larsen et al. Science 334 6055 517-520 (2011)\n",
    "# 200 ps time steps\n",
    "# 53 dcd files each conataining 10,000 frames at 200 ps time steps = 53*10,000*200 = 106 us\n",
    "\n",
    "timestep = 200 # ps\n",
    "\n",
    "pdb_dir = \"/media/joseph/Memorex USB/liew/Joe_Liew_LSS/Joe_Liew_LSS/BBA/3_DESRES-Trajectory_1FME-1-protein/DESRES-Trajectory_1FME-1-protein/1FME-1-protein\"\n",
    "pdb_file = os.path.join(pdb_dir, \"system.pdb\")\n",
    "\n",
    "trj_dir = pdb_dir\n",
    "trj_file = []\n",
    "for i in np.arange(0,10):\n",
    "    fname = \"1FME-1-protein-\" + str(i).zfill(3) + \".dcd\"\n",
    "    trj_file.append(os.path.join(trj_dir, fname))\n",
    "print(pdb_file)\n",
    "\n",
    "print(pdb_file)\n",
    "view = nv.show_structure_file(pdb_file)\n",
    "view.clear_representations()\n",
    "view.add_ball_and_stick()\n",
    "view"
   ]
  },
  {
   "cell_type": "markdown",
   "metadata": {},
   "source": [
    "### mdtraj load and view"
   ]
  },
  {
   "cell_type": "code",
   "execution_count": 7,
   "metadata": {},
   "outputs": [],
   "source": [
    "traj_obj = md.load(trj_file, top=pdb_file)"
   ]
  },
  {
   "cell_type": "code",
   "execution_count": 8,
   "metadata": {},
   "outputs": [
    {
     "data": {
      "text/plain": [
       "<mdtraj.Trajectory with 100000 frames, 504 atoms, 28 residues, and unitcells at 0x7f7ff4525ef0>"
      ]
     },
     "execution_count": 8,
     "metadata": {},
     "output_type": "execute_result"
    }
   ],
   "source": [
    "traj_obj.center_coordinates(mass_weighted=False)\n",
    "traj_obj.superpose(traj_obj[0])"
   ]
  },
  {
   "cell_type": "code",
   "execution_count": 9,
   "metadata": {},
   "outputs": [
    {
     "data": {
      "application/vnd.jupyter.widget-view+json": {
       "model_id": "1baa9c1d452143bda47b280ad3395575",
       "version_major": 2,
       "version_minor": 0
      },
      "text/plain": [
       "NGLWidget(count=100000)"
      ]
     },
     "metadata": {},
     "output_type": "display_data"
    }
   ],
   "source": [
    "view = nv.show_mdtraj(traj_obj)\n",
    "view.clear_representations()\n",
    "view.add_spacefill()\n",
    "view"
   ]
  },
  {
   "cell_type": "markdown",
   "metadata": {},
   "source": [
    "#### h2t"
   ]
  },
  {
   "cell_type": "code",
   "execution_count": 10,
   "metadata": {},
   "outputs": [],
   "source": [
    "Ca_first_idx = traj_obj.topology.select('name CA and resid 0')\n",
    "Ca_last_idx = traj_obj.topology.select('name CA and resid ' + str(traj_obj.n_residues-1))"
   ]
  },
  {
   "cell_type": "code",
   "execution_count": 11,
   "metadata": {},
   "outputs": [],
   "source": [
    "h2t = md.compute_distances(traj_obj, np.reshape(np.array([Ca_first_idx, Ca_last_idx]), (1,2)), periodic=True, opt=True)"
   ]
  },
  {
   "cell_type": "code",
   "execution_count": 12,
   "metadata": {},
   "outputs": [
    {
     "data": {
      "image/png": "[encoded data removed]",
      "text/plain": [
       "<Figure size 432x288 with 1 Axes>"
      ]
     },
     "metadata": {
      "needs_background": "light"
     },
     "output_type": "display_data"
    }
   ],
   "source": [
    "fig, ax = plt.subplots()\n",
    "ax.plot(np.arange(len(h2t))*timestep/1E6, h2t)\n",
    "ax.set_xlabel(\"$t$ (us)\")\n",
    "ax.set_ylabel(\"$h2t$ (nm)\")\n",
    "plt.show()"
   ]
  },
  {
   "cell_type": "code",
   "execution_count": 13,
   "metadata": {},
   "outputs": [
    {
     "data": {
      "image/png": "[encoded data removed]",
      "text/plain": [
       "<Figure size 432x288 with 1 Axes>"
      ]
     },
     "metadata": {
      "needs_background": "light"
     },
     "output_type": "display_data"
    }
   ],
   "source": [
    "fig, ax = plt.subplots()\n",
    "_ = plt.hist(h2t, bins=200)\n",
    "ax.set_ylabel(\"count\")\n",
    "ax.set_xlabel(\"$h2t$ (nm)\")\n",
    "plt.show()"
   ]
  },
  {
   "cell_type": "markdown",
   "metadata": {},
   "source": [
    "#### RMSD"
   ]
  },
  {
   "cell_type": "code",
   "execution_count": 14,
   "metadata": {},
   "outputs": [
    {
     "data": {
      "application/vnd.jupyter.widget-view+json": {
       "model_id": "fdd2aed7f1a943cfb52dd4142647948b",
       "version_major": 2,
       "version_minor": 0
      },
      "text/plain": [
       "NGLWidget()"
      ]
     },
     "metadata": {},
     "output_type": "display_data"
    }
   ],
   "source": [
    "view = nv.show_mdtraj(traj_obj[25000])\n",
    "view.clear_representations()\n",
    "view.add_spacefill()\n",
    "view"
   ]
  },
  {
   "cell_type": "code",
   "execution_count": 15,
   "metadata": {},
   "outputs": [],
   "source": [
    "rmsd = md.rmsd(traj_obj,traj_obj[25000],0)"
   ]
  },
  {
   "cell_type": "code",
   "execution_count": 16,
   "metadata": {},
   "outputs": [
    {
     "data": {
      "image/png": "[encoded data removed]",
      "text/plain": [
       "<Figure size 432x288 with 1 Axes>"
      ]
     },
     "metadata": {
      "needs_background": "light"
     },
     "output_type": "display_data"
    }
   ],
   "source": [
    "fig, ax = plt.subplots()\n",
    "ax.plot(np.arange(len(h2t))*timestep/1E6, rmsd)\n",
    "ax.set_xlabel(\"$t$ (us)\")\n",
    "ax.set_ylabel(\"$h2t$ (nm)\")\n",
    "plt.show()"
   ]
  },
  {
   "cell_type": "code",
   "execution_count": 17,
   "metadata": {},
   "outputs": [
    {
     "data": {
      "image/png": "[encoded data removed]",
      "text/plain": [
       "<Figure size 432x288 with 1 Axes>"
      ]
     },
     "metadata": {
      "needs_background": "light"
     },
     "output_type": "display_data"
    }
   ],
   "source": [
    "fig, ax = plt.subplots()\n",
    "_ = plt.hist(rmsd, bins=200)\n",
    "ax.set_ylabel(\"count\")\n",
    "ax.set_xlabel(\"$rmsd$ (nm)\")\n",
    "plt.show()"
   ]
  },
  {
   "cell_type": "markdown",
   "metadata": {},
   "source": [
    "#### dihedrals"
   ]
  },
  {
   "cell_type": "raw",
   "metadata": {},
   "source": [
    "dih_phi = md.compute_phi(traj_obj, periodic=True, opt=True)\n",
    "dih_psi = md.compute_psi(traj_obj, periodic=True, opt=True)\n",
    "dih_omega = md.compute_omega(traj_obj, periodic=True, opt=True)\n",
    "dih_chi1 = md.compute_chi1(traj_obj, periodic=True, opt=True)"
   ]
  },
  {
   "cell_type": "raw",
   "metadata": {},
   "source": [
    "fig, ax = plt.subplots(dih_phi[1].shape[1], 1, figsize=(15,50))\n",
    "for i in range(dih_phi[1].shape[1]):\n",
    "    ax[i].scatter(np.arange(dih_phi[1].shape[0])*timestep/1E6, dih_phi[1][:,i])\n",
    "    ax[i].set_xlabel(\"$t$ (us)\")\n",
    "    ax[i].set_ylabel(\"$\\phi$ (rad)\")\n",
    "plt.show()"
   ]
  },
  {
   "cell_type": "raw",
   "metadata": {},
   "source": [
    "fig, ax = plt.subplots(dih_psi[1].shape[1], 1, figsize=(15,50))\n",
    "for i in range(dih_psi[1].shape[1]):\n",
    "    ax[i].scatter(np.arange(dih_psi[1].shape[0])*timestep/1E6, dih_psi[1][:,i])\n",
    "    ax[i].set_xlabel(\"$t$ (us)\")\n",
    "    ax[i].set_ylabel(\"$\\psi$ (rad)\")\n",
    "plt.show()"
   ]
  },
  {
   "cell_type": "raw",
   "metadata": {},
   "source": [
    "fig, ax = plt.subplots(dih_omega[1].shape[1], 1, figsize=(15,50))\n",
    "for i in range(dih_omega[1].shape[1]):\n",
    "    ax[i].scatter(np.arange(dih_omega[1].shape[0])*timestep/1E6, dih_omega[1][:,i])\n",
    "    ax[i].set_xlabel(\"$t$ (us)\")\n",
    "    ax[i].set_ylabel(\"$\\omega$ (rad)\")\n",
    "plt.show()"
   ]
  },
  {
   "cell_type": "raw",
   "metadata": {},
   "source": [
    "fig, ax = plt.subplots(dih_chi1[1].shape[1], 1, figsize=(15,50))\n",
    "for i in range(dih_chi1[1].shape[1]):\n",
    "    ax[i].scatter(np.arange(dih_chi1[1].shape[0])*timestep/1E6, dih_chi1[1][:,i])\n",
    "    ax[i].set_xlabel(\"$t$ (us)\")\n",
    "    ax[i].set_ylabel(\"$\\chi_1$ (rad)\")\n",
    "plt.show()"
   ]
  },
  {
   "cell_type": "markdown",
   "metadata": {},
   "source": [
    "## featurization"
   ]
  },
  {
   "cell_type": "code",
   "execution_count": 18,
   "metadata": {},
   "outputs": [
    {
     "name": "stdout",
     "output_type": "stream",
     "text": [
      "28-04-21 22:15:38 pyemma.coordinates.data.featurization.featurizer.MDFeaturizer[0] WARNING  The 1D arrays input for add_inverse_distances() have been sorted, and index duplicates have been eliminated.\n",
      "Check the output of describe() to see the actual order of the features\n",
      "dim = 3744\n"
     ]
    }
   ],
   "source": [
    "# featurizing\n",
    "features = py.coordinates.featurizer(pdb_file)\n",
    "features.add_backbone_torsions(cossin=True)\n",
    "features.add_sidechain_torsions(which='all', cossin=True)\n",
    "atom_idx = features.select_Backbone() # select_Heavy() select_Ca()\n",
    "features.add_inverse_distances(atom_idx)\n",
    "\n",
    "#print(features.describe())\n",
    "print('dim = %d' % features.dimension())"
   ]
  },
  {
   "cell_type": "code",
   "execution_count": null,
   "metadata": {},
   "outputs": [
    {
     "name": "stdout",
     "output_type": "stream",
     "text": [
      "0\n",
      "(10000, 3744)\n",
      "1\n",
      "(20000, 3744)\n",
      "2\n",
      "(30000, 3744)\n",
      "3\n",
      "(40000, 3744)\n",
      "4\n",
      "(50000, 3744)\n",
      "5\n",
      "(60000, 3744)\n"
     ]
    }
   ],
   "source": [
    "data = np.zeros((0,features.dimension()))\n",
    "for i in range(len(trj_file)):\n",
    "    q = py.coordinates.load(trj_file[i], features=features)\n",
    "    data = np.concatenate((data,q), axis=0)\n",
    "    print(i)\n",
    "    print(data.shape)"
   ]
  },
  {
   "cell_type": "markdown",
   "metadata": {},
   "source": [
    "## (1) latent space projection"
   ]
  },
  {
   "cell_type": "markdown",
   "metadata": {},
   "source": [
    "### parameters"
   ]
  },
  {
   "cell_type": "code",
   "execution_count": null,
   "metadata": {},
   "outputs": [],
   "source": [
    "lag=50\n",
    "dim=15\n",
    "is_reversible=True"
   ]
  },
  {
   "cell_type": "markdown",
   "metadata": {},
   "source": [
    "### SRV"
   ]
  },
  {
   "cell_type": "code",
   "execution_count": null,
   "metadata": {},
   "outputs": [],
   "source": [
    "#earlyStopping = EarlyStopping(monitor='val_loss', patience=30, verbose=1, mode='min', restore_best_weights=True)\n",
    "\n",
    "hde = HDE(\n",
    "    features.dimension(), \n",
    "    n_components=dim, \n",
    "    lag_time=lag,\n",
    "    reversible=is_reversible, \n",
    "    n_epochs=300,\n",
    "    learning_rate=0.0005,\n",
    "    hidden_layer_depth=2,\n",
    "    hidden_size=100,\n",
    "    activation='tanh', \n",
    "    batch_size=20000,\n",
    "    batch_normalization=True,\n",
    "    #callbacks=[earlyStopping], \n",
    "    verbose=True\n",
    ")"
   ]
  },
  {
   "cell_type": "code",
   "execution_count": null,
   "metadata": {},
   "outputs": [],
   "source": [
    "hde = pickle.load(open('hde.pkl', 'rb'))"
   ]
  },
  {
   "cell_type": "code",
   "execution_count": null,
   "metadata": {},
   "outputs": [],
   "source": [
    "hde_coords = hde.transform(data, side='left')\n",
    "hde_coords_right = hde.transform(data, side='right')\n",
    "hde_timescales = hde.timescales_\n",
    "print(hde_timescales)\n",
    "print(hde_coords)\n",
    "print(hde.eigenvalues_)\n"
   ]
  },
  {
   "cell_type": "code",
   "execution_count": null,
   "metadata": {},
   "outputs": [],
   "source": [
    "from matplotlib.pyplot import figure\n",
    "font = {'family' : 'normal',\n",
    "        'weight' : 'normal',\n",
    "        'size'   : 14}\n",
    "\n",
    "plt.rc('font', **font)\n",
    "\n",
    "heights = -lag/np.log(hde.eigenvalues_)\n",
    "figure(num=None, figsize=(8, 6), dpi=80, facecolor='w', edgecolor='k')\n",
    "\n",
    "plt.bar(range(len(heights)), heights)\n",
    "plt.xlabel(\"Eigenvalue Index\")\n",
    "plt.ylabel(r'$\\frac{-\\tau}{ln(\\lambda_i)}$')\n",
    "plt.title(r\"$t_i$'s BBA\")"
   ]
  },
  {
   "cell_type": "code",
   "execution_count": null,
   "metadata": {},
   "outputs": [],
   "source": [
    "# 2D scatterplot\n",
    "fig, ax = plt.subplots()\n",
    "im = ax.scatter(hde_coords[:,0],hde_coords[:,1], c=np.arange(hde_coords.shape[0])*timestep/1E6, alpha=0.5, cmap='jet')\n",
    "plt.xlabel(r'$\\psi_1$')\n",
    "plt.ylabel(r'$\\psi_2$')\n",
    "cbar = fig.colorbar(im, ax=ax)\n",
    "cbar.set_label(r'$t$ (us)')\n",
    "plt.show"
   ]
  },
  {
   "cell_type": "code",
   "execution_count": null,
   "metadata": {},
   "outputs": [],
   "source": [
    "# 3D scatterplot\n",
    "fig = plt.figure()\n",
    "ax = fig.gca(projection=\"3d\")\n",
    "im = ax.scatter(hde_coords[:, 0], hde_coords[:, 1], hde_coords[:, 2], c=np.arange(hde_coords.shape[0])*timestep/1E6, alpha=0.5, cmap='jet')\n",
    "ax.set_xlabel(r'$\\psi_1$')\n",
    "ax.set_ylabel(r'$\\psi_2$')\n",
    "ax.set_zlabel(r'$\\psi_3$')\n",
    "cbar = fig.colorbar(im, ax=ax)\n",
    "cbar.set_label(r'$t$ (us)')\n",
    "plt.show()"
   ]
  },
  {
   "cell_type": "code",
   "execution_count": null,
   "metadata": {},
   "outputs": [],
   "source": [
    "# 1D PMF\n",
    "pdf, bin_edges = np.histogram(hde_coords[:,0], bins=50, density=True)\n",
    "bin_mids = bin_edges[:-1]+0.5*(bin_edges[1]-bin_edges[0])\n",
    "pmf = -np.log(pdf)\n",
    "pmf -= min(pmf)\n",
    "fig, ax = plt.subplots()\n",
    "im = ax.plot(bin_mids, pmf)\n",
    "plt.xlabel(r'$\\psi_1$')\n",
    "plt.ylabel(r'$G$ ($k_BT$)')\n",
    "plt.show"
   ]
  },
  {
   "cell_type": "code",
   "execution_count": null,
   "metadata": {},
   "outputs": [],
   "source": [
    "# pyemma distributions\n",
    "fig, axes = plt.subplots(1, 3, figsize=(12, 3))\n",
    "py.plots.plot_feature_histograms(\n",
    "    hde_coords, ['SRV {}'.format(i + 1) for i in range(dim)], ax=axes[0])\n",
    "py.plots.plot_density(*hde_coords[:, :2].T, ax=axes[1], cbar=False, logscale=True)\n",
    "py.plots.plot_free_energy(*hde_coords[:, :2].T, ax=axes[2], legacy=False)\n",
    "for ax in axes.flat[1:]:\n",
    "    ax.set_xlabel('SRV 1')\n",
    "    ax.set_ylabel('SRV 2')\n",
    "fig.tight_layout()"
   ]
  },
  {
   "cell_type": "code",
   "execution_count": null,
   "metadata": {},
   "outputs": [],
   "source": [
    "def plot_its(lags, its, its_stderr, dim, data_name, ax, marker='o'):\n",
    "\n",
    "    for i in range(dim):\n",
    "        ax.plot(lags,its[:,i].flatten(), marker=marker, label=data_name + ' $t$' + str(i))\n",
    "        ax.fill_between(lags, its[:,i].flatten() - its_stderr[:,i].flatten(), its[:,i].flatten() + its_stderr[:,i].flatten(), alpha=0.2)\n",
    "    ax.plot(lags, lags, linewidth=2, color='black')\n",
    "    ax.fill_between(lags, 1e-3*np.ones(len(lags)), lags, alpha=0.5, color='grey')\n",
    "    ax.set_xlim([np.min(lags), np.max(lags)])\n",
    "    ax.set_ylim(ymin = np.min(lags))\n",
    "    ax.set_yscale('log')\n",
    "    ax.legend(loc='lower right')"
   ]
  },
  {
   "cell_type": "code",
   "execution_count": null,
   "metadata": {},
   "outputs": [],
   "source": [
    "# implied time scales\n",
    "lags = np.concatenate((np.arange(1,10,1), np.arange(10,100,5)))\n",
    "\n",
    "its = analysis.generate_its(hde_coords, lags)\n",
    "print(dim)\n",
    "its_CV = []\n",
    "n_blocks=5\n",
    "for i in range(n_blocks):\n",
    "    its_CV_i = analysis.generate_its(np.array_split(hde_coords,n_blocks,axis=0)[i], lags)\n",
    "    its_CV.append(its_CV_i)\n",
    "its_CV = np.array(its_CV)\n",
    "its_stderr = np.std(its_CV, axis=0)/np.sqrt(n_blocks)\n",
    "\n",
    "fig, ax = plt.subplots(1, 2, figsize=(15,6))\n",
    "plot_its(lags, its, its_stderr, dim, 'SRV', ax[0])\n",
    "ax[0].set_xlabel('lag time (steps)')\n",
    "ax[0].set_ylabel('implied timescale (steps)')\n",
    "\n",
    "plot_its(lags*timestep/1E3, its*timestep/1E3, its_stderr*timestep/1E3, dim, 'SRV', ax[1])\n",
    "ax[1].set_xlabel('lag time (ns)')\n",
    "ax[1].set_ylabel('implied timescale (ns)')\n",
    "\n",
    "plt.show()\n",
    "\n",
    "its_SRV = copy.deepcopy(its)\n",
    "its_SRV_stderr = copy.deepcopy(its_stderr)"
   ]
  },
  {
   "cell_type": "markdown",
   "metadata": {},
   "source": [
    "### tICA"
   ]
  },
  {
   "cell_type": "code",
   "execution_count": null,
   "metadata": {},
   "outputs": [],
   "source": [
    "tica = py.coordinates.tica(data, dim=dim, lag=lag)\n",
    "tica_coords = tica.get_output()[0]\n",
    "print(tica.timescales[:dim])\n",
    "print(tica_coords)"
   ]
  },
  {
   "cell_type": "code",
   "execution_count": null,
   "metadata": {},
   "outputs": [],
   "source": [
    "# 2D scatterplot\n",
    "fig, ax = plt.subplots()\n",
    "im = ax.scatter(tica_coords[:,0], tica_coords[:,1], c=np.arange(tica_coords.shape[0])*timestep/1E6, alpha=0.5, cmap='jet')\n",
    "plt.xlabel('TIC1')\n",
    "plt.ylabel('TIC2')\n",
    "cbar = fig.colorbar(im, ax=ax)\n",
    "cbar.set_label(r'$t$ (us)')\n",
    "plt.show"
   ]
  },
  {
   "cell_type": "code",
   "execution_count": null,
   "metadata": {},
   "outputs": [],
   "source": [
    "# 3D scatterplot\n",
    "fig = plt.figure()\n",
    "ax = fig.gca(projection=\"3d\")\n",
    "im = ax.scatter(tica_coords[:, 0], tica_coords[:, 1], tica_coords[:, 2], c=np.arange(tica_coords.shape[0]), alpha=0.5, cmap='jet')\n",
    "ax.set_xlabel(r'$\\psi_1$')\n",
    "ax.set_ylabel(r'$\\psi_2$')\n",
    "ax.set_zlabel(r'$\\psi_3$')\n",
    "cbar = fig.colorbar(im, ax=ax)\n",
    "cbar.set_label(r'$t$ (us)')\n",
    "plt.show()"
   ]
  },
  {
   "cell_type": "code",
   "execution_count": null,
   "metadata": {},
   "outputs": [],
   "source": [
    "# 1D PMF\n",
    "pdf, bin_edges = np.histogram(tica_coords[:,0], bins=50, density=True)\n",
    "bin_mids = bin_edges[:-1]+0.5*(bin_edges[1]-bin_edges[0])\n",
    "pmf = -np.log(pdf)\n",
    "pmf -= min(pmf)\n",
    "fig, ax = plt.subplots()\n",
    "im = ax.plot(bin_mids, pmf)\n",
    "plt.xlabel(r'$\\psi_1$')\n",
    "plt.ylabel(r'$G$ ($k_BT$)')\n",
    "plt.show"
   ]
  },
  {
   "cell_type": "code",
   "execution_count": null,
   "metadata": {},
   "outputs": [],
   "source": [
    "# pyemma distributions\n",
    "tica_concatenated = np.concatenate(tica.get_output())\n",
    "\n",
    "fig, axes = plt.subplots(1, 3, figsize=(12, 3))\n",
    "py.plots.plot_feature_histograms(\n",
    "    tica_concatenated, ['TIC {}'.format(i + 1) for i in range(tica.dimension())], ax=axes[0])\n",
    "py.plots.plot_density(*tica_concatenated[:, :2].T, ax=axes[1], cbar=False, logscale=True)\n",
    "py.plots.plot_free_energy(*tica_concatenated[:, :2].T, ax=axes[2], legacy=False)\n",
    "for ax in axes.flat[1:]:\n",
    "    ax.set_xlabel('TIC 1')\n",
    "    ax.set_ylabel('TIC 2')\n",
    "xyz_synth = xyz_scaler.inverse_transform(molgen.transform(synth_trajs_scaled[synth_traj_id])).reshape(-1, n_atoms)\n",
    "fig.tight_layout()"
   ]
  },
  {
   "cell_type": "code",
   "execution_count": null,
   "metadata": {},
   "outputs": [],
   "source": [
    "# implied time scales\n",
    "lags = np.concatenate((np.arange(1,10,1), np.arange(10,100,5)))\n",
    "\n",
    "its = analysis.generate_its(tica_coords, lags)\n",
    "\n",
    "its_CV = []\n",
    "n_blocks=5\n",
    "for i in range(n_blocks):\n",
    "    its_CV_i = analysis.generate_its(np.array_split(tica_coords,n_blocks,axis=0)[i], lags)\n",
    "    its_CV.append(its_CV_i)\n",
    "its_CV = np.array(its_CV)\n",
    "its_stderr = np.std(its_CV, axis=0)/np.sqrt(n_blocks)\n",
    "\n",
    "fig, ax = plt.subplots(1, 2, figsize=(15,6))\n",
    "plot_its(lags, its, its_stderr, dim, 'SRV', ax[0])\n",
    "ax[0].set_xlabel('lag time (steps)')\n",
    "ax[0].set_ylabel('implied timescale (steps)')\n",
    "\n",
    "plot_its(lags*timestep/1E3, its*timestep/1E3, its_stderr*timestep/1E3, dim, 'SRV', ax[1])\n",
    "ax[1].set_xlabel('lag time (ns)')\n",
    "ax[1].set_ylabel('implied timescale (ns)')\n",
    "\n",
    "plt.show()\n",
    "\n",
    "its_TICA = copy.deepcopy(its)\n",
    "its_TICA_stderr = copy.deepcopy(its_stderr)"
   ]
  },
  {
   "cell_type": "markdown",
   "metadata": {},
   "source": [
    "### SRVs vs. tICA implied time scales"
   ]
  },
  {
   "cell_type": "code",
   "execution_count": null,
   "metadata": {},
   "outputs": [],
   "source": [
    "# implied time scales: SRVs vs. tICA\n",
    "\n",
    "fig, ax = plt.subplots(1, 2, figsize=(15,6))\n",
    "plot_its(lags, its_SRV, its_SRV_stderr, dim, 'SRV', ax[0])\n",
    "ax[0].set_xlabel('lag time (steps)')\n",
    "ax[0].set_ylabel('implied timescale (steps)')\n",
    "plot_its(lags, its_TICA, its_TICA_stderr, dim, 'tICA', ax[0], marker='v')\n",
    "\n",
    "plot_its(lags*timestep/1E3, its_SRV*timestep/1E3, its_SRV_stderr*timestep/1E3, dim, 'SRV', ax[1])\n",
    "ax[1].set_xlabel('lag time (ns)')\n",
    "ax[1].set_ylabel('implied timescale (ns)')\n",
    "plot_its(lags*timestep/1E3, its_TICA*timestep/1E3, its_TICA_stderr*timestep/1E3, dim, 'tICA', ax[1], marker='v')\n",
    "\n",
    "plt.show()"
   ]
  },
  {
   "cell_type": "code",
   "execution_count": null,
   "metadata": {},
   "outputs": [],
   "source": [
    "# 2D scatterplot\n",
    "fig, ax = plt.subplots(1,2,figsize=(15,5))\n",
    "\n",
    "im = ax[0].scatter(tica_coords[:,0], tica_coords[:,1], c=hde_coords[:,0], alpha=0.5, cmap='jet')\n",
    "cbar = fig.colorbar(im, ax=ax[0])\n",
    "cbar.set_label(r'$\\psi_1$ ($t_1$ = ' + str(np.round(hde_timescales[0]*timestep/1E3,2)) + ' ns)')\n",
    "ax[0].set_xlabel('TIC1')\n",
    "ax[0].set_ylabel('TIC2')\n",
    "\n",
    "im = ax[1].scatter(tica_coords[:,0], tica_coords[:,1], c=hde_coords[:,1], alpha=0.5, cmap='jet')\n",
    "cbar = fig.colorbar(im, ax=ax[1])\n",
    "cbar.set_label(r'$\\psi_2$ ($t_2$ = ' + str(np.round(hde_timescales[1]*timestep/1E3,2)) + ' ns)')\n",
    "ax[1].set_xlabel('TIC1')\n",
    "ax[1].set_ylabel('TIC2')\n",
    "\n",
    "plt.show"
   ]
  },
  {
   "cell_type": "markdown",
   "metadata": {},
   "source": [
    "### kernel TICA"
   ]
  },
  {
   "cell_type": "raw",
   "metadata": {},
   "source": [
    "from temp_ktica import *"
   ]
  },
  {
   "cell_type": "raw",
   "metadata": {},
   "source": [
    "from sklearn.cluster import KMeans\n",
    "n_landmarks = 2000\n",
    "\n",
    "kmeans = KMeans(init='k-means++', n_clusters=n_landmarks, n_init=10)\n",
    "kmeans.fit(data)"
   ]
  },
  {
   "cell_type": "raw",
   "metadata": {},
   "source": [
    "temp_dataset = data[:30000] # may need to trim/subsample to fit in RAM\n",
    "temp_landmarks = kmeans.cluster_centers_\n",
    "for sigma in [10., 15., 20., 25.]:    \n",
    "    ktica = Kernel_tica(dim, lag_time=lag, gamma=1./(2 * sigma ** 2), n_components_nystroem=len(temp_landmarks), \n",
    "                       landmarks = temp_landmarks)\n",
    "    ktica_coords = ktica.fit_transform([temp_dataset])[0]\n",
    "    print(sigma, ktica._tica.timescales[:dim])\n",
    "    ktica_timescales = ktica._tica.timescales[:dim]"
   ]
  },
  {
   "cell_type": "markdown",
   "metadata": {},
   "source": [
    "### SRV k-means clustering"
   ]
  },
  {
   "cell_type": "markdown",
   "metadata": {},
   "source": [
    "#### n_cluster optimization using silhouette score\n",
    "\n",
    "- expect n_cluster = (dim_kmeans+1) similar to PCCA (# macrostates = 1 + # singular vectors)\n",
    "\n",
    "- Idea of inner simplex (PCCA) clustering directly in singular vectors of transfer operator:\n",
    "F. Paul, H. Wu, M. Vossel, B.L. de Groot, and F. Noe \"Identification of kinetic order parameters\n",
    "for non-equilibrium dynamics\" J. Chem. Phys. 150, 164120 (2019); doi: 10.1063/1.5083627\n",
    "\n",
    "- k-means simpler and only for understanding of macrostates not construction of MSM"
   ]
  },
  {
   "cell_type": "code",
   "execution_count": null,
   "metadata": {},
   "outputs": [],
   "source": [
    "dim_kmeans = 2\n",
    "hde_coords_kmeans = copy.deepcopy(hde_coords[:,:dim_kmeans])"
   ]
  },
  {
   "cell_type": "code",
   "execution_count": null,
   "metadata": {},
   "outputs": [],
   "source": [
    "range_n_clusters = np.arange(2,5,1)\n",
    "silhouette_avg_array = []\n",
    "\n",
    "for n_clusters in range_n_clusters:\n",
    "    \n",
    "    # Initialize the clusterer with n_clusters value and a random generator\n",
    "    # seed of 10 for reproducibility.\n",
    "    clusterer = KMeans(n_clusters=n_clusters, random_state=200184)\n",
    "    cluster_labels = clusterer.fit_predict(hde_coords_kmeans)\n",
    "\n",
    "    # The silhouette_score gives the average value for all the samples.\n",
    "    # This gives a perspective into the density and separation of the formed\n",
    "    # clusters\n",
    "    silhouette_avg = silhouette_score(hde_coords_kmeans, cluster_labels)\n",
    "    print(\"For n_clusters =\", n_clusters,\n",
    "          \"The average silhouette_score is :\", silhouette_avg)\n",
    "    silhouette_avg_array.append(silhouette_avg)"
   ]
  },
  {
   "cell_type": "code",
   "execution_count": null,
   "metadata": {},
   "outputs": [],
   "source": [
    "n_clusters = dim_kmeans+1 # usually, but check silhouette scores"
   ]
  },
  {
   "cell_type": "code",
   "execution_count": null,
   "metadata": {},
   "outputs": [],
   "source": [
    "clusterer = KMeans(n_clusters=n_clusters, random_state=10)\n",
    "cluster_labels = clusterer.fit_predict(hde_coords_kmeans)\n",
    "centers = clusterer.cluster_centers_\n",
    "sample_silhouette_values = silhouette_samples(hde_coords_kmeans, cluster_labels)"
   ]
  },
  {
   "cell_type": "code",
   "execution_count": null,
   "metadata": {},
   "outputs": [],
   "source": [
    "fig, (ax1, ax2) = plt.subplots(2,1,figsize=(6,6))\n",
    "\n",
    "# 2nd Plot showing the actual clusters formed\n",
    "colors = cm.nipy_spectral(cluster_labels.astype(float) / n_clusters)\n",
    "im1 = ax1.scatter(hde_coords_kmeans[:, 0], hde_coords_kmeans[:, 1], marker='.', s=30, lw=0, alpha=0.7,\n",
    "            c=colors, edgecolor='k')\n",
    "\n",
    "# Labeling the clusters\n",
    "# Draw white circles at cluster centers\n",
    "ax1.scatter(centers[:, 0], centers[:, 1], marker='o',\n",
    "            c=\"white\", alpha=1, s=200, edgecolor='k')\n",
    "\n",
    "for i, c in enumerate(centers):\n",
    "    ax1.scatter(c[0], c[1], marker='$%d$' % i, alpha=1,\n",
    "                s=50, edgecolor='k')\n",
    "\n",
    "ax1.set_xlabel(\"$\\psi_1$\")\n",
    "ax1.set_ylabel(\"$\\psi_2$\")\n",
    "\n",
    "# 2nd Plot showing the actual clusters formed\n",
    "colors = cm.nipy_spectral(cluster_labels.astype(float) / n_clusters)\n",
    "im2 = ax2.scatter(hde_coords_kmeans[:, 0], hde_coords_kmeans[:, 1], marker='.', s=30, lw=0, alpha=0.7,\n",
    "            c=sample_silhouette_values, edgecolor='k')\n",
    "\n",
    "# Labeling the clusters\n",
    "centers = clusterer.cluster_centers_\n",
    "# Draw white circles at cluster centers\n",
    "ax2.scatter(centers[:, 0], centers[:, 1], marker='o',\n",
    "            c=\"white\", alpha=1, s=200, edgecolor='k')\n",
    "\n",
    "for i, c in enumerate(centers):\n",
    "    ax2.scatter(c[0], c[1], marker='$%d$' % i, alpha=1,\n",
    "                s=50, edgecolor='k')\n",
    "\n",
    "ax2.set_xlabel(\"$\\psi_1$\")\n",
    "ax2.set_ylabel(\"$\\psi_2$\")\n",
    "cbar = fig.colorbar(im2, ax=ax2)\n",
    "cbar.set_label('silhouette score')\n",
    "\n",
    "plt.show()"
   ]
  },
  {
   "cell_type": "markdown",
   "metadata": {},
   "source": [
    "#### visualizing configs proximate to k-means centers"
   ]
  },
  {
   "cell_type": "code",
   "execution_count": null,
   "metadata": {},
   "outputs": [],
   "source": [
    "centers"
   ]
  },
  {
   "cell_type": "code",
   "execution_count": null,
   "metadata": {},
   "outputs": [],
   "source": [
    "kmeans_viz = []\n",
    "for i in range(n_clusters):\n",
    "    idx_sort = np.argsort(np.sqrt(np.sum((hde_coords_kmeans - centers[i,:])**2, axis=1)))\n",
    "    kmeans_viz.append(idx_sort[:10])"
   ]
  },
  {
   "cell_type": "code",
   "execution_count": null,
   "metadata": {},
   "outputs": [],
   "source": [
    "for i in range(n_clusters):\n",
    "    print(hde_coords_kmeans[kmeans_viz[i][0],:])"
   ]
  },
  {
   "cell_type": "code",
   "execution_count": null,
   "metadata": {},
   "outputs": [],
   "source": [
    "clust_id = 0\n",
    "view = nv.NGLWidget()\n",
    "for k in range(len(kmeans_viz[clust_id])):\n",
    "    view.add_trajectory(traj_obj[kmeans_viz[clust_id][k]])\n",
    "view"
   ]
  },
  {
   "cell_type": "code",
   "execution_count": null,
   "metadata": {},
   "outputs": [],
   "source": [
    "clust_id = 1\n",
    "view = nv.NGLWidget()\n",
    "for k in range(len(kmeans_viz[clust_id])):\n",
    "    view.add_trajectory(traj_obj[kmeans_viz[clust_id][k]])\n",
    "view"
   ]
  },
  {
   "cell_type": "code",
   "execution_count": null,
   "metadata": {},
   "outputs": [],
   "source": [
    "clust_id = 2\n",
    "view = nv.NGLWidget()\n",
    "for k in range(len(kmeans_viz[clust_id])):\n",
    "    view.add_trajectory(traj_obj[kmeans_viz[clust_id][k]])\n",
    "view"
   ]
  },
  {
   "cell_type": "code",
   "execution_count": null,
   "metadata": {},
   "outputs": [],
   "source": [
    "view = nv.NGLWidget()\n",
    "view.add_trajectory(traj_obj[kmeans_viz[0][0]])\n",
    "view.component_0.clear_representations()\n",
    "view.component_0.add_cartoon(color='blue', opacity=0.8)\n",
    "view.add_trajectory(traj_obj[kmeans_viz[1][0]])\n",
    "view.component_1.clear_representations()\n",
    "view.component_1.add_cartoon(color='red', opacity=0.8)\n",
    "view.add_trajectory(traj_obj[kmeans_viz[2][0]])\n",
    "view.component_2.clear_representations()\n",
    "view.component_2.add_cartoon(color='green', opacity=0.8)\n",
    "view"
   ]
  },
  {
   "cell_type": "markdown",
   "metadata": {},
   "source": [
    "## (2) propagator"
   ]
  },
  {
   "cell_type": "code",
   "execution_count": null,
   "metadata": {},
   "outputs": [],
   "source": [
    "dim_prop = 2"
   ]
  },
  {
   "cell_type": "code",
   "execution_count": null,
   "metadata": {},
   "outputs": [],
   "source": [
    "traj_prop = copy.deepcopy(hde_coords[:,:dim_prop])"
   ]
  },
  {
   "cell_type": "code",
   "execution_count": null,
   "metadata": {},
   "outputs": [],
   "source": [
    "prop_scaler = pre.MinMaxScaler(feature_range=(0,1))\n",
    "if dim_prop==1:\n",
    "    traj_prop_scaled = prop_scaler.fit_transform(traj_prop.reshape(-1, 1))\n",
    "else:\n",
    "    traj_prop_scaled = prop_scaler.fit_transform(traj_prop)"
   ]
  },
  {
   "cell_type": "code",
   "execution_count": null,
   "metadata": {},
   "outputs": [],
   "source": [
    "n_mix = 25\n",
    "lag_prop = lag\n",
    "lr_prop = 0.0001"
   ]
  },
  {
   "cell_type": "code",
   "execution_count": null,
   "metadata": {},
   "outputs": [],
   "source": [
    "callbacks = [\n",
    "    tf.keras.callbacks.EarlyStopping(monitor='loss', patience=50, restore_best_weights=True)\n",
    "]"
   ]
  },
  {
   "cell_type": "code",
   "execution_count": null,
   "metadata": {},
   "outputs": [],
   "source": [
    "prop = Propagator(\n",
    "    traj_prop_scaled.shape[1], \n",
    "    n_components=n_mix, \n",
    "    lag_time=lag_prop, \n",
    "    batch_size=200000, \n",
    "    learning_rate=lr_prop, \n",
    "    n_epochs=20000,\n",
    "    callbacks=callbacks,\n",
    "    hidden_size=100,\n",
    "    activation='relu'\n",
    ")"
   ]
  },
  {
   "cell_type": "code",
   "execution_count": null,
   "metadata": {},
   "outputs": [],
   "source": [
    "from hde.propagator import get_mixture_loss_func"
   ]
  },
  {
   "cell_type": "code",
   "execution_count": null,
   "metadata": {},
   "outputs": [],
   "source": [
    "prop.model.compile(loss=get_mixture_loss_func(prop.input_dim, prop.n_components), optimizer=tf.keras.optimizers.Adam(lr=lr_prop))"
   ]
  },
  {
   "cell_type": "code",
   "execution_count": null,
   "metadata": {},
   "outputs": [],
   "source": [
    "prop.model.set_weights(pickle.load(open('prop_weights.pkl', 'rb')))"
   ]
  },
  {
   "cell_type": "code",
   "execution_count": null,
   "metadata": {},
   "outputs": [],
   "source": [
    "n_steps = np.int(np.floor(np.float(hde_coords.shape[0])/np.float(lag_prop)))\n",
    "n_traj = 5\n",
    "synth_trajs_scaled = [prop.propagate(traj_prop_scaled[0].reshape(1,-1).astype(np.float32), n_steps).reshape(n_steps, -1) for item in range(n_traj)]\n",
    "synth_trajs = [prop_scaler.inverse_transform(synth_trajs_scaled[i]) for i in range(n_traj)]"
   ]
  },
  {
   "cell_type": "code",
   "execution_count": null,
   "metadata": {},
   "outputs": [],
   "source": [
    "synth_traj_id = 0\n",
    "fig, ax = plt.subplots()\n",
    "\n",
    "if dim_prop==1:\n",
    "    ax.scatter(hde_coords[::lag_prop,0], np.zeors(hde_coords[::lag_prop,0].shape[0]), c='blue', alpha=0.5, cmap='jet')\n",
    "    ax.scatter(synth_trajs[synth_traj_id][:,0], np.zeros(synth_trajs[synth_traj_id][:,0].shape[0]), c='orange', alpha=0.5, cmap='jet')\n",
    "    ax.set_xlabel(r'$\\psi_1$')\n",
    "    ax.set_ylabel(r'$\\psi_2$')\n",
    "else:\n",
    "    ax.scatter(hde_coords[::lag_prop,0], hde_coords[::lag_prop,1], c='blue', alpha=0.5, cmap='jet')\n",
    "    ax.scatter(synth_trajs[synth_traj_id][:,0], synth_trajs[synth_traj_id][:,1], c='orange', alpha=0.5, cmap='jet')\n",
    "    ax.set_xlabel(r'$\\psi_1$')\n",
    "    ax.set_ylabel(r'$\\psi_2$')\n",
    "\n",
    "plt.show()"
   ]
  },
  {
   "cell_type": "code",
   "execution_count": null,
   "metadata": {},
   "outputs": [],
   "source": [
    "synth_traj_id = 1\n",
    "psi_id = 0\n",
    "\n",
    "fig, ax = plt.subplots(figsize=(24, 6))\n",
    "ax.plot(np.arange(hde_coords[::lag_prop,psi_id].shape[0])*timestep/1E6*lag_prop, hde_coords[::lag_prop,psi_id], color='blue', alpha=0.5, marker='o')\n",
    "ax.plot(np.arange(synth_trajs[synth_traj_id].shape[0])*timestep/1E6*lag_prop, synth_trajs[synth_traj_id][:,psi_id], color='orange', alpha=0.5, marker='o')\n",
    "ax.set_xlabel(r'$t$ (us)')\n",
    "ax.set_ylabel(r'$\\psi$'+str(psi_id+1))\n",
    "plt.show()"
   ]
  },
  {
   "cell_type": "markdown",
   "metadata": {},
   "source": [
    "## (3) generator"
   ]
  },
  {
   "cell_type": "markdown",
   "metadata": {},
   "source": [
    "#### x_train = scaled latent space coordinates"
   ]
  },
  {
   "cell_type": "code",
   "execution_count": 77,
   "metadata": {},
   "outputs": [],
   "source": [
    "x_train = traj_prop_scaled"
   ]
  },
  {
   "cell_type": "markdown",
   "metadata": {},
   "source": [
    "#### y_train = aligned molecular configurations"
   ]
  },
  {
   "cell_type": "code",
   "execution_count": 78,
   "metadata": {},
   "outputs": [],
   "source": [
    "ca_idx = traj_obj.top.select_atom_indices('alpha')\n",
    "traj_ca = traj_obj.atom_slice(ca_idx)"
   ]
  },
  {
   "cell_type": "code",
   "execution_count": 79,
   "metadata": {},
   "outputs": [
    {
     "data": {
      "text/plain": [
       "<mdtraj.Trajectory with 100000 frames, 28 atoms, 28 residues, and unitcells at 0x7f1a040ee278>"
      ]
     },
     "execution_count": 79,
     "metadata": {},
     "output_type": "execute_result"
    }
   ],
   "source": [
    "traj_ca.superpose(traj_ca[0])"
   ]
  },
  {
   "cell_type": "code",
   "execution_count": 80,
   "metadata": {},
   "outputs": [
    {
     "data": {
      "application/vnd.jupyter.widget-view+json": {
       "model_id": "1bcfbda5f52041278842e2d8c7bacbc2",
       "version_major": 2,
       "version_minor": 0
      },
      "text/plain": [
       "NGLWidget(count=2000)"
      ]
     },
     "metadata": {},
     "output_type": "display_data"
    }
   ],
   "source": [
    "view = nv.show_mdtraj(traj_ca[::lag_prop])\n",
    "#view.component_0.clear_representations()\n",
    "view.component_0.add_ribbon(color='blue', opacity=0.6)\n",
    "view\n",
    "view"
   ]
  },
  {
   "cell_type": "code",
   "execution_count": 81,
   "metadata": {},
   "outputs": [],
   "source": [
    "xyz = traj_ca.xyz.reshape(-1, traj_ca.n_atoms*3)"
   ]
  },
  {
   "cell_type": "code",
   "execution_count": 82,
   "metadata": {},
   "outputs": [],
   "source": [
    "xyz_scaler = pre.MinMaxScaler(feature_range=(-1,1))"
   ]
  },
  {
   "cell_type": "code",
   "execution_count": 83,
   "metadata": {},
   "outputs": [],
   "source": [
    "y_train = xyz_scaler.fit_transform(xyz)"
   ]
  },
  {
   "cell_type": "code",
   "execution_count": 84,
   "metadata": {},
   "outputs": [],
   "source": [
    "n_atoms = traj_ca.n_atoms"
   ]
  },
  {
   "cell_type": "markdown",
   "metadata": {},
   "source": [
    "#### training cWGAN"
   ]
  },
  {
   "cell_type": "code",
   "execution_count": 85,
   "metadata": {},
   "outputs": [
    {
     "name": "stdout",
     "output_type": "stream",
     "text": [
      "_________________________________________________________________\n",
      "Layer (type)                 Output Shape              Param #   \n",
      "=================================================================\n",
      "dense_4 (Dense)              (None, 200)               10600     \n",
      "_________________________________________________________________\n",
      "dense_5 (Dense)              (None, 200)               40200     \n",
      "_________________________________________________________________\n",
      "dense_6 (Dense)              (None, 84)                16884     \n",
      "=================================================================\n",
      "Total params: 67,684\n",
      "Trainable params: 67,684\n",
      "Non-trainable params: 0\n",
      "_________________________________________________________________\n",
      "_________________________________________________________________\n",
      "Layer (type)                 Output Shape              Param #   \n",
      "=================================================================\n",
      "dense_7 (Dense)              (None, 200)               17400     \n",
      "_________________________________________________________________\n",
      "dense_8 (Dense)              (None, 200)               40200     \n",
      "_________________________________________________________________\n",
      "dense_9 (Dense)              (None, 1)                 201       \n",
      "=================================================================\n",
      "Total params: 57,801\n",
      "Trainable params: 57,801\n",
      "Non-trainable params: 0\n",
      "_________________________________________________________________\n",
      "WARNING:tensorflow:From /home/joseph/anaconda3/envs/lss/lib/python3.6/site-packages/keras/optimizers.py:790: The name tf.train.Optimizer is deprecated. Please use tf.compat.v1.train.Optimizer instead.\n",
      "\n"
     ]
    }
   ],
   "source": [
    "molgen = MolGen(\n",
    "    latent_dim=x_train.shape[1],\n",
    "    output_dim=y_train.shape[1],\n",
    "    batch_size=30000,\n",
    "    noise_dim=50,\n",
    "    n_epochs=2500,\n",
    "    hidden_layer_depth=2,\n",
    "    hidden_size=200,\n",
    "    n_discriminator=5\n",
    ")"
   ]
  },
  {
   "cell_type": "code",
   "execution_count": 87,
   "metadata": {},
   "outputs": [],
   "source": [
    "def swish(x):\n",
    "    return (K.sigmoid(x) * x)\n",
    "molgen.generator = tf.keras.models.load_model('molgen_generator.h5', custom_objects={'swish': swish},compile=False)\n",
    "molgen.discriminator = tf.keras.models.load_model('molgen_discriminator.h5', custom_objects={'swish': swish},compile=False)\n",
    "molgen.is_fitted = True# need to override after loading to allow molgen.transform to proceed\n"
   ]
  },
  {
   "cell_type": "markdown",
   "metadata": {},
   "source": [
    "#### decoding synthetic propagator trajectories"
   ]
  },
  {
   "cell_type": "code",
   "execution_count": 88,
   "metadata": {},
   "outputs": [
    {
     "name": "stdout",
     "output_type": "stream",
     "text": [
      "2000\n"
     ]
    }
   ],
   "source": [
    "assert molgen.is_fitted == True\n",
    "print(len(synth_trajs_scaled[synth_traj_id]))"
   ]
  },
  {
   "cell_type": "code",
   "execution_count": 89,
   "metadata": {},
   "outputs": [
    {
     "data": {
      "text/plain": [
       "array([[[-1.3085054 , -1.0786773 , -0.01874089],\n",
       "        [-0.9301056 , -0.9565639 ,  0.0836839 ],\n",
       "        [-0.99379027, -0.7745612 , -0.04478197],\n",
       "        ...,\n",
       "        [ 0.9912009 ,  0.5821516 , -0.56357294],\n",
       "        [ 1.1212898 ,  0.8359319 , -0.5657604 ],\n",
       "        [ 0.5997858 ,  1.0369923 , -0.1347258 ]],\n",
       "\n",
       "       [[-0.52249265, -0.92364705, -0.22468765],\n",
       "        [-0.55901194, -0.82317805,  0.04225752],\n",
       "        [-0.59174836, -0.51035744,  0.25209057],\n",
       "        ...,\n",
       "        [ 1.009892  ,  0.9936978 , -0.39027688],\n",
       "        [ 1.4718039 ,  1.3303632 , -0.37579122],\n",
       "        [ 1.2806737 ,  1.4683152 , -0.04754889]],\n",
       "\n",
       "       [[-0.8548069 ,  0.83069617, -0.69657886],\n",
       "        [-0.3300199 ,  0.6597731 , -0.37103355],\n",
       "        [-0.12392005,  0.4602338 , -0.17574082],\n",
       "        ...,\n",
       "        [ 0.07111917,  0.6122779 , -0.93514097],\n",
       "        [ 0.12359145,  0.39771482, -0.8782501 ],\n",
       "        [-0.6151939 ,  0.28918457, -0.8644761 ]],\n",
       "\n",
       "       ...,\n",
       "\n",
       "       [[-1.2284234 ,  0.4974132 , -1.3583835 ],\n",
       "        [-1.0043308 ,  0.35660654, -1.0284373 ],\n",
       "        [-1.20855   ,  0.64223045, -0.7555193 ],\n",
       "        ...,\n",
       "        [-0.60862374,  0.04889115, -0.91956997],\n",
       "        [-0.48008016, -0.07621149, -1.1601858 ],\n",
       "        [-0.12617877,  0.747423  , -1.5920496 ]],\n",
       "\n",
       "       [[-1.5439017 ,  0.67830604, -0.66519654],\n",
       "        [-1.3773807 ,  0.47389156, -0.42311582],\n",
       "        [-1.0621362 ,  0.5069167 , -0.4160778 ],\n",
       "        ...,\n",
       "        [-0.2718353 ,  0.54911864, -0.60642767],\n",
       "        [-0.32987797,  0.591912  , -0.8814164 ],\n",
       "        [ 0.1201895 ,  0.64635175, -0.5376183 ]],\n",
       "\n",
       "       [[-0.8347227 ,  0.7765828 , -0.57642627],\n",
       "        [-0.61043555,  0.8421366 , -0.48421362],\n",
       "        [-0.4258341 ,  0.58489245, -0.4093799 ],\n",
       "        ...,\n",
       "        [-0.22239515,  0.43055984, -0.71192527],\n",
       "        [-0.68103623,  0.5663572 , -0.7288365 ],\n",
       "        [-1.2039603 ,  0.34684402, -0.76522803]]], dtype=float32)"
      ]
     },
     "execution_count": 89,
     "metadata": {},
     "output_type": "execute_result"
    }
   ],
   "source": [
    "synth_traj_id = 1\n",
    "xyz_synth = xyz_scaler.inverse_transform(molgen.transform(synth_trajs_scaled[synth_traj_id])).reshape(-1, n_atoms, 3)\n",
    "xyz_synth"
   ]
  },
  {
   "cell_type": "code",
   "execution_count": null,
   "metadata": {},
   "outputs": [],
   "source": [
    "with open('synth.xyz', 'w') as f:\n",
    "    for i in range(xyz_synth.shape[0]):\n",
    "        f.write('%d\\n' % n_atoms)\n",
    "        f.write('\\n')\n",
    "        for k in range(n_atoms):\n",
    "            f.write('%3s%17.9f%17.9f%17.9f\\n' % ('C', xyz_synth[i][k][0]*10, xyz_synth[i][k][1]*10, xyz_synth[i][k][2]*10) ) # nm to Angstroms for xyz write"
   ]
  },
  {
   "cell_type": "code",
   "execution_count": 135,
   "metadata": {},
   "outputs": [],
   "source": [
    "traj_ca[0].save_pdb('synth.pdb')"
   ]
  },
  {
   "cell_type": "code",
   "execution_count": 136,
   "metadata": {},
   "outputs": [],
   "source": [
    "traj_ca_synth = copy.deepcopy(traj_ca)"
   ]
  },
  {
   "cell_type": "code",
   "execution_count": 137,
   "metadata": {},
   "outputs": [
    {
     "data": {
      "text/plain": [
       "<mdtraj.Trajectory with 100000 frames, 28 atoms, 28 residues, and unitcells at 0x7f4c20c5c208>"
      ]
     },
     "execution_count": 137,
     "metadata": {},
     "output_type": "execute_result"
    }
   ],
   "source": [
    "traj_ca_synth"
   ]
  },
  {
   "cell_type": "code",
   "execution_count": 138,
   "metadata": {},
   "outputs": [],
   "source": [
    "traj_synth_obj = md.load('synth.xyz', top='synth.pdb')"
   ]
  },
  {
   "cell_type": "code",
   "execution_count": 139,
   "metadata": {},
   "outputs": [
    {
     "data": {
      "text/plain": [
       "<mdtraj.Trajectory with 2000 frames, 28 atoms, 28 residues, without unitcells at 0x7f4c4c231f60>"
      ]
     },
     "execution_count": 139,
     "metadata": {},
     "output_type": "execute_result"
    }
   ],
   "source": [
    "traj_synth_obj.center_coordinates(mass_weighted=False)\n",
    "traj_synth_obj.superpose(traj_synth_obj[0])"
   ]
  },
  {
   "cell_type": "code",
   "execution_count": 140,
   "metadata": {},
   "outputs": [
    {
     "data": {
      "application/vnd.jupyter.widget-view+json": {
       "model_id": "7cf1077c314d49c799abc4fe954aed9e",
       "version_major": 2,
       "version_minor": 0
      },
      "text/plain": [
       "NGLWidget(count=2000)"
      ]
     },
     "metadata": {},
     "output_type": "display_data"
    }
   ],
   "source": [
    "view = nv.show_mdtraj(traj_synth_obj)\n",
    "view.component_0.clear_representations()\n",
    "view.component_0.add_ribbon(color='red', opacity=0.6)\n",
    "view"
   ]
  },
  {
   "cell_type": "markdown",
   "metadata": {},
   "source": [
    "## (4) comparison"
   ]
  },
  {
   "cell_type": "markdown",
   "metadata": {},
   "source": [
    "### thermodynamics (FES)"
   ]
  },
  {
   "cell_type": "markdown",
   "metadata": {},
   "source": [
    "1D PMF in leading SRV coordinate\n",
    "\n",
    "adding one pseudo-count to each bin as regularization and avoiding infinite free energies\n"
   ]
  },
  {
   "cell_type": "code",
   "execution_count": 141,
   "metadata": {},
   "outputs": [],
   "source": [
    "# MD 1D PMF mean\n",
    "n_bins = 50\n",
    "pdf_MD, bin_edges = np.histogram(hde_coords[:,0], bins=n_bins, density=True)\n",
    "bin_mids = bin_edges[:-1]+0.5*(bin_edges[1]-bin_edges[0])\n",
    "\n",
    "pdf_MD += 1./(len(hde_coords[:,0])*(bin_edges[1]-bin_edges[0])) # adding one pseudo-count per bin\n",
    "pmf_MD = -np.log(pdf_MD)\n",
    "pmf_MD -= np.mean(pmf_MD[np.isfinite(pmf_MD)]) # optimal mutual least squares alignment"
   ]
  },
  {
   "cell_type": "code",
   "execution_count": 142,
   "metadata": {},
   "outputs": [],
   "source": [
    "# MD 1D PMF block averages\n",
    "pmf_MD_block = []\n",
    "n_blocks=5\n",
    "for i in range(n_blocks):\n",
    "    \n",
    "    data_i = np.array_split(hde_coords[:,0],n_blocks,axis=0)[i] #block splits\n",
    "    \n",
    "    pdf_MD_i, _ = np.histogram(data_i, bins=bin_edges, density=True)\n",
    "    pdf_MD_i += 1./(len(data_i)*(bin_edges[1]-bin_edges[0])) # adding one pseudo-count per bin\n",
    "    \n",
    "    pmf_MD_i = -np.log(pdf_MD_i)\n",
    "    pmf_MD_i -= np.mean(pmf_MD_i[np.isfinite(pmf_MD_i)]) # optimal mutual least squares alignment\n",
    "    pmf_MD_block.append(pmf_MD_i)\n",
    "    \n",
    "pmf_MD_block = np.array(pmf_MD_block)\n",
    "pmf_MD_stderr = np.std(pmf_MD_block, axis=0)/np.sqrt(n_blocks)"
   ]
  },
  {
   "cell_type": "code",
   "execution_count": 143,
   "metadata": {},
   "outputs": [],
   "source": [
    "# shifting global minimum to zero of optimally least squares aligned landscapes\n",
    "PMF_shift = min(pmf_MD)\n",
    "pmf_MD -= PMF_shift\n",
    "for i in range(n_blocks):\n",
    "    pmf_MD_block[i] -= PMF_shift"
   ]
  },
  {
   "cell_type": "code",
   "execution_count": 144,
   "metadata": {},
   "outputs": [
    {
     "data": {
      "text/plain": [
       "<function matplotlib.pyplot.show(*args, **kw)>"
      ]
     },
     "execution_count": 144,
     "metadata": {},
     "output_type": "execute_result"
    },
    {
     "data": {
      "image/png": "[encoded data removed]",
      "text/plain": [
       "<Figure size 432x288 with 1 Axes>"
      ]
     },
     "metadata": {
      "needs_background": "light"
     },
     "output_type": "display_data"
    }
   ],
   "source": [
    "# plotting full and block PMFs\n",
    "fig, ax = plt.subplots()\n",
    "for i in range(n_blocks):\n",
    "    ax.plot(bin_mids, pmf_MD_block[i])\n",
    "im = ax.plot(bin_mids, pmf_MD, color='black', linewidth=3)\n",
    "plt.xlabel(r'$\\psi_1$')\n",
    "plt.ylabel(r'$G$ ($k_BT$)')\n",
    "plt.show"
   ]
  },
  {
   "cell_type": "code",
   "execution_count": 145,
   "metadata": {},
   "outputs": [
    {
     "data": {
      "text/plain": [
       "<function matplotlib.pyplot.show(*args, **kw)>"
      ]
     },
     "execution_count": 145,
     "metadata": {},
     "output_type": "execute_result"
    },
    {
     "data": {
      "image/png": "[encoded data removed]",
      "text/plain": [
       "<Figure size 432x288 with 1 Axes>"
      ]
     },
     "metadata": {
      "needs_background": "light"
     },
     "output_type": "display_data"
    }
   ],
   "source": [
    "# plotting full PMFs with 95% CI (1.96 standard deviations in standard error)\n",
    "fig, ax = plt.subplots()\n",
    "ax.plot(bin_mids, pmf_MD, color='blue')\n",
    "ax.fill_between(bin_mids, pmf_MD-1.96*pmf_MD_stderr, pmf_MD+1.96*pmf_MD_stderr, alpha=0.2, color='blue')\n",
    "plt.xlabel(r'$\\psi_1$')\n",
    "plt.ylabel(r'$G$ ($k_BT$)')\n",
    "plt.show"
   ]
  },
  {
   "cell_type": "code",
   "execution_count": 151,
   "metadata": {},
   "outputs": [],
   "source": [
    "# LSS 1D PMF mean\n",
    "synth_trajs_CONCAT = np.zeros((0,))\n",
    "for i in range(n_traj):\n",
    "    synth_trajs_CONCAT = np.concatenate((synth_trajs_CONCAT,synth_trajs[i][:,0]), axis=0)\n",
    "pdf_LSS, _ = np.histogram(synth_trajs_CONCAT, bins=n_bins, density=True)\n",
    "\n",
    "pdf_LSS += 1./(len(synth_trajs_CONCAT)*(bin_edges[1]-bin_edges[0])) # adding one pseudo-count per bin\n",
    "pmf_LSS = -np.log(pdf_LSS)\n",
    "pmf_LSS -= np.mean(pmf_LSS[np.isfinite(pmf_LSS)]) # optimal mutual least squares alignment"
   ]
  },
  {
   "cell_type": "code",
   "execution_count": 152,
   "metadata": {},
   "outputs": [],
   "source": [
    "# LSS 1D PMF block averages\n",
    "pmf_LSS_block = []\n",
    "n_blocks=5\n",
    "for i in range(n_blocks):\n",
    "    \n",
    "    data_i = np.array_split(synth_trajs_CONCAT,n_blocks,axis=0)[i] #block splits\n",
    "    \n",
    "    pdf_LSS_i, _ = np.histogram(data_i, bins=bin_edges, density=True)\n",
    "    pdf_LSS_i += 1./(len(data_i)*(bin_edges[1]-bin_edges[0])) # adding one pseudo-count per bin\n",
    "    \n",
    "    pmf_LSS_i = -np.log(pdf_LSS_i)\n",
    "    pmf_LSS_i -= np.mean(pmf_LSS_i[np.isfinite(pmf_LSS_i)]) # optimal mutual least squares alignment\n",
    "    pmf_LSS_block.append(pmf_LSS_i)\n",
    "    \n",
    "pmf_LSS_block = np.array(pmf_LSS_block)\n",
    "pmf_LSS_stderr = np.std(pmf_LSS_block, axis=0)/np.sqrt(n_blocks)"
   ]
  },
  {
   "cell_type": "code",
   "execution_count": 153,
   "metadata": {},
   "outputs": [],
   "source": [
    "# shifting global minimum to zero of optimally least squares aligned landscapes\n",
    "PMF_shift = min(pmf_LSS)\n",
    "pmf_LSS -= PMF_shift\n",
    "for i in range(n_blocks):\n",
    "    pmf_LSS_block[i] -= PMF_shift"
   ]
  },
  {
   "cell_type": "code",
   "execution_count": 158,
   "metadata": {},
   "outputs": [
    {
     "name": "stdout",
     "output_type": "stream",
     "text": [
      "[ 7.08402893  7.08402893  7.08402893  7.08402893  7.08402893  7.08402893\n",
      "  7.08402893  7.08402893  7.08402893  7.08402893  7.08402893  7.08402893\n",
      "  7.08402893  4.08829639  2.6296815  -0.4437652   4.08829652  5.00458727\n",
      "  4.78144359  5.69773457  7.08402893  7.08402893  7.08402893  7.08402893\n",
      "  7.08402893  7.08402893  7.08402893  7.08402893  7.08402893  7.08402893\n",
      "  7.08402893  7.08402893  7.08402893  7.08402893  7.08402893  7.08402893\n",
      "  7.08402893  7.08402893  7.08402893  7.08402893  7.08402893  7.08402893\n",
      "  7.08402893  7.08402893  7.08402893  7.08402893  7.08402893  7.08402893\n",
      "  7.08402893  7.08402893]\n"
     ]
    },
    {
     "data": {
      "image/png": "[encoded data removed]",
      "text/plain": [
       "<Figure size 432x288 with 1 Axes>"
      ]
     },
     "metadata": {
      "needs_background": "light"
     },
     "output_type": "display_data"
    }
   ],
   "source": [
    "x = np.zeros(len(pmf_LSS_block[0]))\n",
    "fig, ax = plt.subplots()\n",
    "for i in range(n_blocks):\n",
    "    x += pmf_LSS_block[i]/n_blocks\n",
    "    ax.plot(bin_mids, pmf_LSS_block[i])\n",
    "im = ax.plot(bin_mids, x, color='black', linewidth=3)\n",
    "plt.xlabel(r'$\\psi_1$')\n",
    "plt.ylabel(r'$G$ ($k_BT$)')\n",
    "plt.show\n",
    "print(pmf_LSS_block[1])\n",
    "pmf_LSS = x"
   ]
  },
  {
   "cell_type": "code",
   "execution_count": 159,
   "metadata": {},
   "outputs": [
    {
     "data": {
      "text/plain": [
       "<function matplotlib.pyplot.show(*args, **kw)>"
      ]
     },
     "execution_count": 159,
     "metadata": {},
     "output_type": "execute_result"
    },
    {
     "data": {
      "image/png": "[encoded data removed]",
      "text/plain": [
       "<Figure size 432x288 with 1 Axes>"
      ]
     },
     "metadata": {
      "needs_background": "light"
     },
     "output_type": "display_data"
    }
   ],
   "source": [
    "fig, ax = plt.subplots()\n",
    "ax.plot(bin_mids, pmf_LSS, color='orange')\n",
    "ax.fill_between(bin_mids, pmf_LSS-pmf_LSS_stderr, pmf_LSS+pmf_LSS_stderr, alpha=0.2, color='orange')\n",
    "plt.xlabel(r'$\\psi_1$')\n",
    "plt.ylabel(r'$G$ ($k_BT$)')\n",
    "plt.show"
   ]
  },
  {
   "cell_type": "code",
   "execution_count": 160,
   "metadata": {},
   "outputs": [
    {
     "data": {
      "text/plain": [
       "<function matplotlib.pyplot.show(*args, **kw)>"
      ]
     },
     "execution_count": 160,
     "metadata": {},
     "output_type": "execute_result"
    },
    {
     "data": {
      "image/png": "[encoded data removed]",
      "text/plain": [
       "<Figure size 432x288 with 1 Axes>"
      ]
     },
     "metadata": {
      "needs_background": "light"
     },
     "output_type": "display_data"
    }
   ],
   "source": [
    "fig, ax = plt.subplots()\n",
    "ax.plot(bin_mids, pmf_MD, color='blue', label='MD')\n",
    "ax.fill_between(bin_mids, pmf_MD-1.96*pmf_MD_stderr, pmf_MD+1.96*pmf_MD_stderr, alpha=0.2, color='blue')\n",
    "ax.plot(bin_mids, pmf_LSS, color='orange', label='LSS')\n",
    "ax.fill_between(bin_mids, pmf_LSS-1.96*pmf_LSS_stderr, pmf_LSS+1.96*pmf_LSS_stderr, alpha=0.2, color='orange')\n",
    "plt.xlabel(r'$\\psi_1$')\n",
    "plt.ylabel(r'$G$ ($k_BT$)')\n",
    "ax.legend()\n",
    "plt.show"
   ]
  },
  {
   "cell_type": "code",
   "execution_count": null,
   "metadata": {},
   "outputs": [],
   "source": []
  },
  {
   "cell_type": "markdown",
   "metadata": {},
   "source": [
    "### kinetic (relaxation times)"
   ]
  },
  {
   "cell_type": "code",
   "execution_count": 161,
   "metadata": {},
   "outputs": [],
   "source": [
    "def compute_autocorr_time(signal, delays):\n",
    "    ac=[]\n",
    "    for j in delays:\n",
    "        if type(signal) is list:\n",
    "            z = np.concatenate([item[:] for item in signal])\n",
    "            x = np.concatenate([item[:-j] for item in signal])\n",
    "            y = np.concatenate([item[j:] for item in signal])\n",
    "        else:\n",
    "            z = signal[:]\n",
    "            x = signal[:-j]\n",
    "            y = signal[j:]\n",
    "        ac.append(np.mean(x*y, axis=0)/np.mean(z*z, axis=0))\n",
    "    return np.array(ac)"
   ]
  },
  {
   "cell_type": "code",
   "execution_count": 162,
   "metadata": {},
   "outputs": [],
   "source": [
    "# MD mean autocorrelation and implied relaxation time\n",
    "ac_MD = compute_autocorr_time(hde_coords[:,:dim_prop], [lag_prop])\n",
    "relax_MD = -lag_prop/np.log(ac_MD)*timestep/1E3"
   ]
  },
  {
   "cell_type": "code",
   "execution_count": 163,
   "metadata": {},
   "outputs": [],
   "source": [
    "# MD block average standard error estimate\n",
    "ac_MD_block = []\n",
    "n_blocks=5\n",
    "for i in range(n_blocks):\n",
    "    ac_MD_i = compute_autocorr_time(np.array_split(hde_coords[:,:dim_prop],n_blocks,axis=0)[i], [lag_prop])\n",
    "    ac_MD_block.append(ac_MD_i)\n",
    "ac_MD_block = np.array(ac_MD_block)\n",
    "ac_MD_block = ac_MD_block.reshape(n_blocks,dim_prop)\n",
    "\n",
    "relax_MD_block = -lag_prop/np.log(ac_MD_block)*timestep/1E3\n",
    "relax_MD_stderr = np.std(relax_MD_block, axis=0)/np.sqrt(n_blocks)"
   ]
  },
  {
   "cell_type": "code",
   "execution_count": 164,
   "metadata": {},
   "outputs": [
    {
     "name": "stdout",
     "output_type": "stream",
     "text": [
      "MD relaxation times (ns) = \n",
      "215640.453125 +/- 2095.635986\n",
      "31040.921875 +/- 18898.607422\n"
     ]
    }
   ],
   "source": [
    "print('MD relaxation times (ns) = ')\n",
    "for i in range(relax_MD.shape[1]):\n",
    "    print('%f +/- %f' % (relax_MD[0,i], relax_MD_stderr[i]))"
   ]
  },
  {
   "cell_type": "code",
   "execution_count": 165,
   "metadata": {},
   "outputs": [],
   "source": [
    "# LSS mean autocorrelation and implied relaxation time\n",
    "ac_LSS = compute_autocorr_time(synth_trajs, [1])\n",
    "relax_LSS = -lag_prop/np.log(ac_LSS)*timestep/1E3"
   ]
  },
  {
   "cell_type": "code",
   "execution_count": 166,
   "metadata": {},
   "outputs": [],
   "source": [
    "# LSS block average standard error estimate\n",
    "# N.B. Blocks in this case are over complete indepenent LSS trajectories since data must be continuous\n",
    "\n",
    "assert n_traj >= 5 # need at least 5 independent trajectories for reasonable blocks\n",
    "\n",
    "ac_LSS_block = []\n",
    "for i in range(n_traj):\n",
    "    ac_LSS_i = compute_autocorr_time(synth_trajs[i], [1])\n",
    "    ac_LSS_block.append(ac_LSS_i)\n",
    "ac_LSS_block = np.array(ac_LSS_block)\n",
    "ac_LSS_block = ac_LSS_block.reshape(n_traj,synth_trajs[0].shape[1])\n",
    "\n",
    "relax_LSS_block = -lag_prop/np.log(ac_LSS_block)*timestep/1E3\n",
    "relax_LSS_stderr = np.std(relax_LSS_block, axis=0)/np.sqrt(n_traj)"
   ]
  },
  {
   "cell_type": "code",
   "execution_count": 167,
   "metadata": {},
   "outputs": [
    {
     "name": "stdout",
     "output_type": "stream",
     "text": [
      "LSS relaxation times (ns) = \n",
      "1418.396362 +/- 413.631714\n",
      "3225.609619 +/- 794.082886\n"
     ]
    }
   ],
   "source": [
    "print('LSS relaxation times (ns) = ')\n",
    "for i in range(relax_LSS.shape[1]):\n",
    "    print('%f +/- %f' % (relax_LSS[0,i], relax_LSS_stderr[i]))"
   ]
  },
  {
   "cell_type": "markdown",
   "metadata": {},
   "source": [
    "### structure (RMSD)"
   ]
  },
  {
   "cell_type": "raw",
   "metadata": {},
   "source": [
    "TO DO: \n",
    "Follow protocol in Chem. Sci., 2020, 11, 9459 (77.pdf) - \"Structures\" on p. 9464\n",
    "\n",
    "- extract MD and LSS structures in the metastable basins and compare their relative Calpha RMSD using mdtraj or MDAnalysis libraries; note that this is a pairwise calculation -- given N_MD structures and N_LSS structures within a particular metastable basin, what is the mean value of RMSD_ij where i=1..N_MD and j=1..N_LSS\n",
    "\n",
    "- for this protein system we have two metastable states at \\psi_1 ~ (-1.3) and (+0.7) so we should analyze the structures in both these basins by extracting snapshots from the MD and LSS trajectories with \\psi_1 values of, say, [-1.4, -1.2] and [0.6, 0.8]. Depending on how many frames you extract, you may wish to loosen or tighten these bounds."
   ]
  },
  {
   "cell_type": "code",
   "execution_count": 168,
   "metadata": {},
   "outputs": [],
   "source": [
    "#xyz_synth = xyz_scaler.inverse_transform(molgen.transform(synth_trajs_scaled[synth_traj_id])).reshape(-1, n_atoms, 3)"
   ]
  },
  {
   "cell_type": "code",
   "execution_count": 169,
   "metadata": {},
   "outputs": [],
   "source": [
    "def writeToXYZ(xyz_coordinates, filename):\n",
    "    with open(filename, 'w') as f:\n",
    "        for i in range(xyz_coordinates.shape[0]):\n",
    "            f.write('%d\\n' % n_atoms)\n",
    "            f.write('\\n')\n",
    "            for k in range(n_atoms):\n",
    "                f.write('%3s%17.9f%17.9f%17.9f\\n' % ('C', xyz_synth[i][k][0]*10, xyz_synth[i][k][1]*10, xyz_synth[i][k][2]*10) ) # nm to Angstroms for xyz write\n",
    "\n",
    "                \n",
    "def xyzToTraj(xyz_coordinates,fn=\"temp.xyz\"):\n",
    "    writeToXYZ(xyz_coordinates, fn)\n",
    "    traj = md.load(fn, top='synth.pdb')\n",
    "    return traj"
   ]
  },
  {
   "cell_type": "code",
   "execution_count": 174,
   "metadata": {
    "scrolled": true
   },
   "outputs": [
    {
     "name": "stdout",
     "output_type": "stream",
     "text": [
      "Finding Frames for Traj  0\n",
      "Finding Frames for Traj  1\n",
      "Finding Frames for Traj  2\n",
      "Finding Frames for Traj  3\n",
      "Finding Frames for Traj  4\n"
     ]
    }
   ],
   "source": [
    "'''\n",
    "    ~~~RMSD Calculation~~~\n",
    "    k = frames where the indexed LSS trajectory is in the metastable basin1\n",
    "    l = frames where the MD obj trajectory is in the mestable basin1\n",
    "    \n",
    "    n = frames where the indexed LSS trajectory is in the metastable basin2\n",
    "    m = frames where the MD obj trajectory is in the mestable basin2\n",
    "\n",
    "    t = traj containing all corresponding LSS frames for basin 1\n",
    "    s = traj containing all corresponding LSS frames for basin 2\n",
    "    \n",
    "'''\n",
    "lowerBasin1 = -0.2\n",
    "upperBasin1 = 0.2\n",
    "\n",
    "lowerBasin2 = 1.7\n",
    "upperBasin2 = 2.3\n",
    "\n",
    "\n",
    "l = np.where(np.logical_and(hde_coords[:,0]>=lowerBasin1, hde_coords[:,0]<=upperBasin1))\n",
    "m = np.where(np.logical_and(hde_coords[:,0]>=lowerBasin2, hde_coords[:,0]<=upperBasin2))\n",
    "\n",
    "\n",
    "for i in range(len(synth_trajs)):\n",
    "    print(\"Finding Frames for Traj \",i)\n",
    "    k = np.where(np.logical_and(synth_trajs[i][:,0]>=lowerBasin1, synth_trajs[0][:,0]<=upperBasin1))\n",
    "    n = np.where(np.logical_and(synth_trajs[i][:,0]>=lowerBasin2, synth_trajs[0][:,0]<=upperBasin2))\n",
    "    xyzi = xyz_scaler.inverse_transform(molgen.transform(synth_trajs_scaled[i])).reshape(-1, n_atoms, 3)\n",
    "    if(i == 0): t = xyzToTraj(xyzi)[k]\n",
    "    else: t = md.join([t,xyzToTraj(xyzi)[k]])\n",
    "    if(i == 0): s = xyzToTraj(xyzi)[n]\n",
    "    else: s = md.join([t,xyzToTraj(xyzi)[n]])"
   ]
  },
  {
   "cell_type": "code",
   "execution_count": 173,
   "metadata": {},
   "outputs": [
    {
     "name": "stdout",
     "output_type": "stream",
     "text": [
      "Basin One RMSD is  nan  nm. Found  0 LSS frames in Basin One and  83115  MD frames\n",
      "Basin Two RMSD is  0.8854259  nm. Found  1620 LSS frames in Basin Two and  1917  MD frames\n"
     ]
    }
   ],
   "source": [
    "rmsd1 = np.mean(md.rmsd(t, traj_ca[l]))\n",
    "rmsd2 = np.mean(md.rmsd(s, traj_ca[m]))\n",
    "print(\"Basin One RMSD is \", rmsd1, \" nm. Found \", len(t), \"LSS frames in Basin One and \", len(l[0]), \" MD frames\")\n",
    "print(\"Basin Two RMSD is \", rmsd2, \" nm. Found \", len(s), \"LSS frames in Basin Two and \", len(m[0]), \" MD frames\")"
   ]
  },
  {
   "cell_type": "code",
   "execution_count": null,
   "metadata": {},
   "outputs": [],
   "source": [
    "np.where(np.logical_and(hde_coords[:,0]>=lowerBasin2, hde_coords[:,0]<=upperBasin2))"
   ]
  },
  {
   "cell_type": "code",
   "execution_count": null,
   "metadata": {},
   "outputs": [],
   "source": []
  },
  {
   "cell_type": "code",
   "execution_count": null,
   "metadata": {},
   "outputs": [],
   "source": []
  },
  {
   "cell_type": "code",
   "execution_count": null,
   "metadata": {},
   "outputs": [],
   "source": []
  }
 ],
 "metadata": {
  "kernelspec": {
   "display_name": "Python 3",
   "language": "python",
   "name": "python3"
  },
  "language_info": {
   "codemirror_mode": {
    "name": "ipython",
    "version": 3
   },
   "file_extension": ".py",
   "mimetype": "text/x-python",
   "name": "python",
   "nbconvert_exporter": "python",
   "pygments_lexer": "ipython3",
   "version": "3.6.9"
  }
 },
 "nbformat": 4,
 "nbformat_minor": 4
}
