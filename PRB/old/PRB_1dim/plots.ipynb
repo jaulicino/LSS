{
 "cells": [
  {
   "cell_type": "markdown",
   "metadata": {},
   "source": [
    "# prototyping LSS pipeline"
   ]
  },
  {
   "cell_type": "markdown",
   "metadata": {},
   "source": [
    "## setup"
   ]
  },
  {
   "cell_type": "code",
   "execution_count": 23,
   "metadata": {},
   "outputs": [
    {
     "name": "stdout",
     "output_type": "stream",
     "text": [
      "The autoreload extension is already loaded. To reload it, use:\n",
      "  %reload_ext autoreload\n"
     ]
    }
   ],
   "source": [
    "%matplotlib inline\n",
    "%load_ext autoreload\n",
    "%autoreload 2"
   ]
  },
  {
   "cell_type": "code",
   "execution_count": 2,
   "metadata": {},
   "outputs": [
    {
     "name": "stderr",
     "output_type": "stream",
     "text": [
      "/home/joseph/anaconda3/envs/lss/lib/python3.6/site-packages/Bio/KDTree/__init__.py:25: BiopythonDeprecationWarning: Bio.KDTree has been deprecated, and we intend to remove it in a future release of Biopython. Please use Bio.PDB.kdtrees instead, which is functionally very similar.\n",
      "  BiopythonDeprecationWarning)\n",
      "/home/joseph/anaconda3/envs/lss/lib/python3.6/site-packages/MDAnalysis/due.py:88: UserWarning: No module named 'duecredit'\n",
      "  warnings.warn(str(err))\n"
     ]
    }
   ],
   "source": [
    "import os, pickle, time, glob, sys, copy\n",
    "import numpy as np \n",
    "import scipy\n",
    "import mdtraj as md \n",
    "import MDAnalysis as mda\n",
    "import nglview as nv \n",
    "from ipywidgets import interactive, VBox\n",
    "import sklearn.preprocessing as pre\n",
    "from sklearn.cluster import KMeans\n",
    "from sklearn.metrics import silhouette_samples, silhouette_score\n",
    "import matplotlib.pyplot as plt\n",
    "import matplotlib.cm as cm\n",
    "from mpl_toolkits.mplot3d import Axes3D\n",
    "import pyemma as py \n",
    "from pyemma.util.contexts import settings\n",
    "import warnings\n",
    "warnings.filterwarnings('ignore')"
   ]
  },
  {
   "cell_type": "code",
   "execution_count": 3,
   "metadata": {},
   "outputs": [],
   "source": [
    "os.environ['CUDA_DEVICE_ORDER'] = 'PCI_BUS_ID'\n",
    "os.environ['CUDA_VISIBLE_DEVICES'] = '1' "
   ]
  },
  {
   "cell_type": "code",
   "execution_count": 4,
   "metadata": {},
   "outputs": [
    {
     "name": "stderr",
     "output_type": "stream",
     "text": [
      "Using TensorFlow backend.\n"
     ]
    }
   ],
   "source": [
    "import tensorflow as tf\n",
    "import keras.backend as K\n",
    "from keras.models import load_model\n",
    "from keras.callbacks import EarlyStopping\n",
    "config = tf.ConfigProto()\n",
    "config.gpu_options.allow_growth = True\n",
    "K.tensorflow_backend.set_session(tf.Session(config=config))"
   ]
  },
  {
   "cell_type": "code",
   "execution_count": 5,
   "metadata": {
    "scrolled": true
   },
   "outputs": [],
   "source": [
    "import sys\n",
    "#__all__ = [\"hde\", \"propagator\", \"molgen\"]\n",
    "from hde import *#__init__, hde, propagator, molgen, analysis #"
   ]
  },
  {
   "cell_type": "markdown",
   "metadata": {},
   "source": [
    "## locating trajectory data"
   ]
  },
  {
   "cell_type": "code",
   "execution_count": 6,
   "metadata": {},
   "outputs": [
    {
     "name": "stdout",
     "output_type": "stream",
     "text": [
      "/media/joseph/Memorex USB/liew/Joe_Liew_LSS/Joe_Liew_LSS/PRB/DESRES-Trajectory_PRB-0-protein/PRB-0-protein/system.pdb\n",
      "/media/joseph/Memorex USB/liew/Joe_Liew_LSS/Joe_Liew_LSS/PRB/DESRES-Trajectory_PRB-0-protein/PRB-0-protein/system.pdb\n"
     ]
    },
    {
     "data": {
      "application/vnd.jupyter.widget-view+json": {
       "model_id": "e36f317d2f55446f8d141df3788e83ac",
       "version_major": 2,
       "version_minor": 0
      },
      "text/plain": [
       "NGLWidget()"
      ]
     },
     "metadata": {},
     "output_type": "display_data"
    }
   ],
   "source": [
    "# DESRES Chignolin at 340 K\n",
    "# Lindorff-Larsen et al. Science 334 6055 517-520 (2011)\n",
    "# 200 ps time steps\n",
    "# 53 dcd files each conataining 10,000 frames at 200 ps time steps = 53*10,000*200 = 106 us\n",
    "\n",
    "timestep = 200 # ps\n",
    "\n",
    "pdb_dir = \"/media/joseph/Memorex USB/liew/Joe_Liew_LSS/Joe_Liew_LSS/PRB/DESRES-Trajectory_PRB-0-protein/PRB-0-protein\"\n",
    "pdb_file = os.path.join(pdb_dir, \"system.pdb\")\n",
    "\n",
    "trj_dir = pdb_dir\n",
    "trj_file = []\n",
    "for i in np.arange(0,10):\n",
    "    fname = \"PRB-0-protein-\" + str(i).zfill(3) + \".dcd\"\n",
    "    trj_file.append(os.path.join(trj_dir, fname))\n",
    "print(pdb_file)\n",
    "\n",
    "print(pdb_file)\n",
    "view = nv.show_structure_file(pdb_file)\n",
    "view.clear_representations()\n",
    "view.add_ball_and_stick()\n",
    "view"
   ]
  },
  {
   "cell_type": "markdown",
   "metadata": {},
   "source": [
    "### mdtraj load and view"
   ]
  },
  {
   "cell_type": "code",
   "execution_count": 7,
   "metadata": {},
   "outputs": [],
   "source": [
    "traj_obj = md.load(trj_file, top=pdb_file)"
   ]
  },
  {
   "cell_type": "code",
   "execution_count": 8,
   "metadata": {},
   "outputs": [
    {
     "data": {
      "text/plain": [
       "<mdtraj.Trajectory with 100000 frames, 737 atoms, 47 residues, and unitcells at 0x7f18600bd8d0>"
      ]
     },
     "execution_count": 8,
     "metadata": {},
     "output_type": "execute_result"
    }
   ],
   "source": [
    "traj_obj.center_coordinates(mass_weighted=False)\n",
    "traj_obj.superpose(traj_obj[0])"
   ]
  },
  {
   "cell_type": "code",
   "execution_count": 9,
   "metadata": {},
   "outputs": [
    {
     "data": {
      "application/vnd.jupyter.widget-view+json": {
       "model_id": "0ceee56b7f004fd3a2230eae6151c1a6",
       "version_major": 2,
       "version_minor": 0
      },
      "text/plain": [
       "NGLWidget(count=100000)"
      ]
     },
     "metadata": {},
     "output_type": "display_data"
    }
   ],
   "source": [
    "view = nv.show_mdtraj(traj_obj)\n",
    "view.clear_representations()\n",
    "view.add_spacefill()\n",
    "view"
   ]
  },
  {
   "cell_type": "markdown",
   "metadata": {},
   "source": [
    "#### h2t"
   ]
  },
  {
   "cell_type": "code",
   "execution_count": 32,
   "metadata": {},
   "outputs": [],
   "source": [
    "Ca_first_idx = traj_obj.topology.select('name CA and resid 0')\n",
    "Ca_last_idx = traj_obj.topology.select('name CA and resid ' + str(traj_obj.n_residues-1))"
   ]
  },
  {
   "cell_type": "code",
   "execution_count": 33,
   "metadata": {},
   "outputs": [],
   "source": [
    "h2t = md.compute_distances(traj_obj, np.reshape(np.array([Ca_first_idx, Ca_last_idx]), (1,2)), periodic=True, opt=True)"
   ]
  },
  {
   "cell_type": "code",
   "execution_count": 34,
   "metadata": {},
   "outputs": [
    {
     "data": {
      "image/png": "[encoded data removed]",
      "text/plain": [
       "<Figure size 432x288 with 1 Axes>"
      ]
     },
     "metadata": {
      "needs_background": "light"
     },
     "output_type": "display_data"
    }
   ],
   "source": [
    "fig, ax = plt.subplots()\n",
    "ax.plot(np.arange(len(h2t))*timestep/1E6, h2t)\n",
    "ax.set_xlabel(\"$t$ (us)\")\n",
    "ax.set_ylabel(\"$h2t$ (nm)\")\n",
    "plt.show()"
   ]
  },
  {
   "cell_type": "code",
   "execution_count": 35,
   "metadata": {},
   "outputs": [
    {
     "data": {
      "image/png": "[encoded data removed]",
      "text/plain": [
       "<Figure size 432x288 with 1 Axes>"
      ]
     },
     "metadata": {
      "needs_background": "light"
     },
     "output_type": "display_data"
    }
   ],
   "source": [
    "fig, ax = plt.subplots()\n",
    "_ = plt.hist(h2t, bins=200)\n",
    "ax.set_ylabel(\"count\")\n",
    "ax.set_xlabel(\"$h2t$ (nm)\")\n",
    "plt.show()"
   ]
  },
  {
   "cell_type": "markdown",
   "metadata": {},
   "source": [
    "#### RMSD"
   ]
  },
  {
   "cell_type": "code",
   "execution_count": 39,
   "metadata": {},
   "outputs": [
    {
     "data": {
      "application/vnd.jupyter.widget-view+json": {
       "model_id": "37286fa324dc4212a2ec4c543e2a6ace",
       "version_major": 2,
       "version_minor": 0
      },
      "text/plain": [
       "NGLWidget()"
      ]
     },
     "metadata": {},
     "output_type": "display_data"
    }
   ],
   "source": [
    "view = nv.show_mdtraj(traj_obj[25000])\n",
    "view.clear_representations()\n",
    "view.add_spacefill()\n",
    "view"
   ]
  },
  {
   "cell_type": "code",
   "execution_count": 40,
   "metadata": {},
   "outputs": [],
   "source": [
    "rmsd = md.rmsd(traj_obj,traj_obj[25000],0)"
   ]
  },
  {
   "cell_type": "code",
   "execution_count": 41,
   "metadata": {},
   "outputs": [
    {
     "data": {
      "image/png": "[encoded data removed]",
      "text/plain": [
       "<Figure size 432x288 with 1 Axes>"
      ]
     },
     "metadata": {
      "needs_background": "light"
     },
     "output_type": "display_data"
    }
   ],
   "source": [
    "fig, ax = plt.subplots()\n",
    "ax.plot(np.arange(len(h2t))*timestep/1E6, rmsd)\n",
    "ax.set_xlabel(\"$t$ (us)\")\n",
    "ax.set_ylabel(\"$h2t$ (nm)\")\n",
    "plt.show()"
   ]
  },
  {
   "cell_type": "code",
   "execution_count": 42,
   "metadata": {},
   "outputs": [
    {
     "data": {
      "image/png": "[encoded data removed]",
      "text/plain": [
       "<Figure size 432x288 with 1 Axes>"
      ]
     },
     "metadata": {
      "needs_background": "light"
     },
     "output_type": "display_data"
    }
   ],
   "source": [
    "fig, ax = plt.subplots()\n",
    "_ = plt.hist(rmsd, bins=200)\n",
    "ax.set_ylabel(\"count\")\n",
    "ax.set_xlabel(\"$rmsd$ (nm)\")\n",
    "plt.show()"
   ]
  },
  {
   "cell_type": "markdown",
   "metadata": {},
   "source": [
    "#### dihedrals"
   ]
  },
  {
   "cell_type": "raw",
   "metadata": {},
   "source": [
    "dih_phi = md.compute_phi(traj_obj, periodic=True, opt=True)\n",
    "dih_psi = md.compute_psi(traj_obj, periodic=True, opt=True)\n",
    "dih_omega = md.compute_omega(traj_obj, periodic=True, opt=True)\n",
    "dih_chi1 = md.compute_chi1(traj_obj, periodic=True, opt=True)"
   ]
  },
  {
   "cell_type": "raw",
   "metadata": {},
   "source": [
    "fig, ax = plt.subplots(dih_phi[1].shape[1], 1, figsize=(15,50))\n",
    "for i in range(dih_phi[1].shape[1]):\n",
    "    ax[i].scatter(np.arange(dih_phi[1].shape[0])*timestep/1E6, dih_phi[1][:,i])\n",
    "    ax[i].set_xlabel(\"$t$ (us)\")\n",
    "    ax[i].set_ylabel(\"$\\phi$ (rad)\")\n",
    "plt.show()"
   ]
  },
  {
   "cell_type": "raw",
   "metadata": {},
   "source": [
    "fig, ax = plt.subplots(dih_psi[1].shape[1], 1, figsize=(15,50))\n",
    "for i in range(dih_psi[1].shape[1]):\n",
    "    ax[i].scatter(np.arange(dih_psi[1].shape[0])*timestep/1E6, dih_psi[1][:,i])\n",
    "    ax[i].set_xlabel(\"$t$ (us)\")\n",
    "    ax[i].set_ylabel(\"$\\psi$ (rad)\")\n",
    "plt.show()"
   ]
  },
  {
   "cell_type": "raw",
   "metadata": {},
   "source": [
    "fig, ax = plt.subplots(dih_omega[1].shape[1], 1, figsize=(15,50))\n",
    "for i in range(dih_omega[1].shape[1]):\n",
    "    ax[i].scatter(np.arange(dih_omega[1].shape[0])*timestep/1E6, dih_omega[1][:,i])\n",
    "    ax[i].set_xlabel(\"$t$ (us)\")\n",
    "    ax[i].set_ylabel(\"$\\omega$ (rad)\")\n",
    "plt.show()"
   ]
  },
  {
   "cell_type": "raw",
   "metadata": {},
   "source": [
    "fig, ax = plt.subplots(dih_chi1[1].shape[1], 1, figsize=(15,50))\n",
    "for i in range(dih_chi1[1].shape[1]):\n",
    "    ax[i].scatter(np.arange(dih_chi1[1].shape[0])*timestep/1E6, dih_chi1[1][:,i])\n",
    "    ax[i].set_xlabel(\"$t$ (us)\")\n",
    "    ax[i].set_ylabel(\"$\\chi_1$ (rad)\")\n",
    "plt.show()"
   ]
  },
  {
   "cell_type": "markdown",
   "metadata": {},
   "source": [
    "## featurization"
   ]
  },
  {
   "cell_type": "code",
   "execution_count": 12,
   "metadata": {},
   "outputs": [
    {
     "name": "stdout",
     "output_type": "stream",
     "text": [
      "21-04-21 22:04:15 pyemma.coordinates.data.featurization.featurizer.MDFeaturizer[0] WARNING  The 1D arrays input for add_inverse_distances() have been sorted, and index duplicates have been eliminated.\n",
      "Check the output of describe() to see the actual order of the features\n",
      "dim = 10224\n"
     ]
    }
   ],
   "source": [
    "# featurizing\n",
    "features = py.coordinates.featurizer(pdb_file)\n",
    "features.add_backbone_torsions(cossin=True)\n",
    "features.add_sidechain_torsions(which='all', cossin=True)\n",
    "atom_idx = features.select_Backbone() # select_Heavy() select_Ca()\n",
    "features.add_inverse_distances(atom_idx)\n",
    "\n",
    "#print(features.describe())\n",
    "print('dim = %d' % features.dimension())"
   ]
  },
  {
   "cell_type": "code",
   "execution_count": 13,
   "metadata": {},
   "outputs": [
    {
     "data": {
      "text/plain": [
       "'\\n\\ndata = np.zeros((0,features.dimension()))\\nfor i in range(3):\\n    q = py.coordinates.load(trj_file[i], features=features, chunksize = 3)\\n    print(q.shape)\\n    data = np.concatenate((data,q), axis=0)\\n    print(i)\\n    print(data.shape)\\n    \\n'"
      ]
     },
     "execution_count": 13,
     "metadata": {},
     "output_type": "execute_result"
    }
   ],
   "source": [
    "import gc\n",
    "gc.collect()\n",
    "\n",
    "\n",
    "data = []\n",
    "\n",
    "\n",
    "'''\n",
    "\n",
    "data = np.zeros((0,features.dimension()))\n",
    "for i in range(3):\n",
    "    q = py.coordinates.load(trj_file[i], features=features, chunksize = 3)\n",
    "    print(q.shape)\n",
    "    data = np.concatenate((data,q), axis=0)\n",
    "    print(i)\n",
    "    print(data.shape)\n",
    "    \n",
    "'''"
   ]
  },
  {
   "cell_type": "markdown",
   "metadata": {},
   "source": [
    "## (1) latent space projection"
   ]
  },
  {
   "cell_type": "markdown",
   "metadata": {},
   "source": [
    "### parameters"
   ]
  },
  {
   "cell_type": "code",
   "execution_count": null,
   "metadata": {},
   "outputs": [],
   "source": [
    "lag=50\n",
    "dim=1\n",
    "is_reversible=True"
   ]
  },
  {
   "cell_type": "markdown",
   "metadata": {},
   "source": [
    "### SRV"
   ]
  },
  {
   "cell_type": "code",
   "execution_count": 17,
   "metadata": {},
   "outputs": [],
   "source": [
    "#earlyStopping = EarlyStopping(monitor='val_loss', patience=30, verbose=1, mode='min', restore_best_weights=True)\n",
    "\n",
    "hde = HDE(\n",
    "    features.dimension(), \n",
    "    n_components=dim, \n",
    "    lag_time=lag,\n",
    "    reversible=is_reversible, \n",
    "    n_epochs=300,\n",
    "    learning_rate=0.0005,\n",
    "    hidden_layer_depth=2,\n",
    "    hidden_size=100,\n",
    "    activation='tanh', \n",
    "    batch_size=20000,\n",
    "    batch_normalization=True,\n",
    "    #callbacks=[earlyStopping], \n",
    "    verbose=True\n",
    ")"
   ]
  },
  {
   "cell_type": "code",
   "execution_count": 18,
   "metadata": {},
   "outputs": [
    {
     "name": "stdout",
     "output_type": "stream",
     "text": [
      "WARNING:tensorflow:From /home/joseph/anaconda3/envs/lss/lib/python3.6/site-packages/keras/backend/tensorflow_backend.py:174: The name tf.get_default_session is deprecated. Please use tf.compat.v1.get_default_session instead.\n",
      "\n",
      "WARNING:tensorflow:From /home/joseph/anaconda3/envs/lss/lib/python3.6/site-packages/keras/backend/tensorflow_backend.py:190: The name tf.global_variables is deprecated. Please use tf.compat.v1.global_variables instead.\n",
      "\n",
      "WARNING:tensorflow:From /home/joseph/anaconda3/envs/lss/lib/python3.6/site-packages/keras/backend/tensorflow_backend.py:199: The name tf.is_variable_initialized is deprecated. Please use tf.compat.v1.is_variable_initialized instead.\n",
      "\n",
      "WARNING:tensorflow:From /home/joseph/anaconda3/envs/lss/lib/python3.6/site-packages/keras/backend/tensorflow_backend.py:206: The name tf.variables_initializer is deprecated. Please use tf.compat.v1.variables_initializer instead.\n",
      "\n"
     ]
    }
   ],
   "source": [
    "hde = pickle.load(open('hde.pkl', 'rb'))"
   ]
  },
  {
   "cell_type": "code",
   "execution_count": 19,
   "metadata": {},
   "outputs": [
    {
     "name": "stdout",
     "output_type": "stream",
     "text": [
      "0.0 %\n"
     ]
    },
    {
     "data": {
      "application/vnd.jupyter.widget-view+json": {
       "model_id": "",
       "version_major": 2,
       "version_minor": 0
      },
      "text/plain": [
       "getting output of FeatureReader:   0%|          | 0/125 [00:00<?, ?it/s]"
      ]
     },
     "metadata": {},
     "output_type": "display_data"
    },
    {
     "name": "stdout",
     "output_type": "stream",
     "text": [
      "10.0 %\n"
     ]
    },
    {
     "data": {
      "application/vnd.jupyter.widget-view+json": {
       "model_id": "",
       "version_major": 2,
       "version_minor": 0
      },
      "text/plain": [
       "getting output of FeatureReader:   0%|          | 0/125 [00:00<?, ?it/s]"
      ]
     },
     "metadata": {},
     "output_type": "display_data"
    },
    {
     "name": "stdout",
     "output_type": "stream",
     "text": [
      "20.0 %\n"
     ]
    },
    {
     "data": {
      "application/vnd.jupyter.widget-view+json": {
       "model_id": "",
       "version_major": 2,
       "version_minor": 0
      },
      "text/plain": [
       "getting output of FeatureReader:   0%|          | 0/125 [00:00<?, ?it/s]"
      ]
     },
     "metadata": {},
     "output_type": "display_data"
    },
    {
     "name": "stdout",
     "output_type": "stream",
     "text": [
      "30.0 %\n"
     ]
    },
    {
     "data": {
      "application/vnd.jupyter.widget-view+json": {
       "model_id": "",
       "version_major": 2,
       "version_minor": 0
      },
      "text/plain": [
       "getting output of FeatureReader:   0%|          | 0/125 [00:00<?, ?it/s]"
      ]
     },
     "metadata": {},
     "output_type": "display_data"
    },
    {
     "name": "stdout",
     "output_type": "stream",
     "text": [
      "40.0 %\n"
     ]
    },
    {
     "data": {
      "application/vnd.jupyter.widget-view+json": {
       "model_id": "",
       "version_major": 2,
       "version_minor": 0
      },
      "text/plain": [
       "getting output of FeatureReader:   0%|          | 0/125 [00:00<?, ?it/s]"
      ]
     },
     "metadata": {},
     "output_type": "display_data"
    },
    {
     "name": "stdout",
     "output_type": "stream",
     "text": [
      "50.0 %\n"
     ]
    },
    {
     "data": {
      "application/vnd.jupyter.widget-view+json": {
       "model_id": "",
       "version_major": 2,
       "version_minor": 0
      },
      "text/plain": [
       "getting output of FeatureReader:   0%|          | 0/125 [00:00<?, ?it/s]"
      ]
     },
     "metadata": {},
     "output_type": "display_data"
    },
    {
     "name": "stdout",
     "output_type": "stream",
     "text": [
      "60.0 %\n"
     ]
    },
    {
     "data": {
      "application/vnd.jupyter.widget-view+json": {
       "model_id": "",
       "version_major": 2,
       "version_minor": 0
      },
      "text/plain": [
       "getting output of FeatureReader:   0%|          | 0/125 [00:00<?, ?it/s]"
      ]
     },
     "metadata": {},
     "output_type": "display_data"
    },
    {
     "name": "stdout",
     "output_type": "stream",
     "text": [
      "70.0 %\n"
     ]
    },
    {
     "data": {
      "application/vnd.jupyter.widget-view+json": {
       "model_id": "",
       "version_major": 2,
       "version_minor": 0
      },
      "text/plain": [
       "getting output of FeatureReader:   0%|          | 0/125 [00:00<?, ?it/s]"
      ]
     },
     "metadata": {},
     "output_type": "display_data"
    },
    {
     "name": "stdout",
     "output_type": "stream",
     "text": [
      "80.0 %\n"
     ]
    },
    {
     "data": {
      "application/vnd.jupyter.widget-view+json": {
       "model_id": "",
       "version_major": 2,
       "version_minor": 0
      },
      "text/plain": [
       "getting output of FeatureReader:   0%|          | 0/125 [00:00<?, ?it/s]"
      ]
     },
     "metadata": {},
     "output_type": "display_data"
    },
    {
     "name": "stdout",
     "output_type": "stream",
     "text": [
      "90.0 %\n"
     ]
    },
    {
     "data": {
      "application/vnd.jupyter.widget-view+json": {
       "model_id": "",
       "version_major": 2,
       "version_minor": 0
      },
      "text/plain": [
       "getting output of FeatureReader:   0%|          | 0/125 [00:00<?, ?it/s]"
      ]
     },
     "metadata": {},
     "output_type": "display_data"
    }
   ],
   "source": [
    "data = np.zeros((100000,2))\n",
    "for i in range(len(trj_file)):\n",
    "    print(100 * i / len(trj_file), \"%\")\n",
    "    q = py.coordinates.load(trj_file[i], features=features, chunksize = 80)\n",
    "    h = hde.transform(q, side=\"left\")\n",
    "    r = i*10000\n",
    "    l = (i+1*10000)\n",
    "    if(i == 0):\n",
    "        data = h\n",
    "    else:\n",
    "        data = np.concatenate((data, h), axis = 0)"
   ]
  },
  {
   "cell_type": "code",
   "execution_count": 20,
   "metadata": {},
   "outputs": [
    {
     "data": {
      "text/plain": [
       "(100000, 1)"
      ]
     },
     "execution_count": 20,
     "metadata": {},
     "output_type": "execute_result"
    }
   ],
   "source": [
    "data.shape"
   ]
  },
  {
   "cell_type": "code",
   "execution_count": 21,
   "metadata": {},
   "outputs": [
    {
     "name": "stdout",
     "output_type": "stream",
     "text": [
      "[138375.43570028]\n",
      "[[0.23157161]\n",
      " [0.23478362]\n",
      " [0.23388244]\n",
      " ...\n",
      " [0.2330554 ]\n",
      " [0.23475298]\n",
      " [0.23464309]]\n",
      "[0.99963873]\n"
     ]
    }
   ],
   "source": [
    "hde_coords = data\n",
    "hde_timescales = hde.timescales_\n",
    "print(hde_timescales)\n",
    "print(hde_coords)\n",
    "print(hde.eigenvalues_)\n"
   ]
  },
  {
   "cell_type": "code",
   "execution_count": 22,
   "metadata": {},
   "outputs": [
    {
     "data": {
      "text/plain": [
       "Text(0.5, 1.0, \"$t_i$'s BBA\")"
      ]
     },
     "execution_count": 22,
     "metadata": {},
     "output_type": "execute_result"
    },
    {
     "name": "stderr",
     "output_type": "stream",
     "text": [
      "findfont: Font family ['normal'] not found. Falling back to DejaVu Sans.\n",
      "findfont: Font family ['normal'] not found. Falling back to DejaVu Sans.\n"
     ]
    },
    {
     "data": {
      "image/png": "[encoded data removed]",
      "text/plain": [
       "<Figure size 640x480 with 1 Axes>"
      ]
     },
     "metadata": {},
     "output_type": "display_data"
    }
   ],
   "source": [
    "from matplotlib.pyplot import figure\n",
    "font = {'family' : 'normal',\n",
    "        'weight' : 'normal',\n",
    "        'size'   : 14}\n",
    "\n",
    "plt.rc('font', **font)\n",
    "\n",
    "heights = -lag/np.log(hde.eigenvalues_)\n",
    "figure(num=None, figsize=(8, 6), dpi=80, facecolor='w', edgecolor='k')\n",
    "\n",
    "plt.bar(range(len(heights)), heights)\n",
    "plt.xlabel(\"Eigenvalue Index\")\n",
    "plt.ylabel(r'$\\frac{-\\tau}{ln(\\lambda_i)}$')\n",
    "plt.title(r\"$t_i$'s BBA\")"
   ]
  },
  {
   "cell_type": "markdown",
   "metadata": {},
   "source": [
    "## (2) propagator"
   ]
  },
  {
   "cell_type": "code",
   "execution_count": 28,
   "metadata": {},
   "outputs": [],
   "source": [
    "dim_prop = dim"
   ]
  },
  {
   "cell_type": "code",
   "execution_count": 29,
   "metadata": {},
   "outputs": [],
   "source": [
    "traj_prop = copy.deepcopy(hde_coords[:,:dim_prop])"
   ]
  },
  {
   "cell_type": "code",
   "execution_count": 30,
   "metadata": {},
   "outputs": [],
   "source": [
    "prop_scaler = pre.MinMaxScaler(feature_range=(0,1))\n",
    "if dim_prop==1:\n",
    "    traj_prop_scaled = prop_scaler.fit_transform(traj_prop.reshape(-1, 1))\n",
    "else:\n",
    "    traj_prop_scaled = prop_scaler.fit_transform(traj_prop)"
   ]
  },
  {
   "cell_type": "code",
   "execution_count": 31,
   "metadata": {},
   "outputs": [],
   "source": [
    "n_mix = 25\n",
    "lag_prop = lag\n",
    "lr_prop = 0.0001"
   ]
  },
  {
   "cell_type": "code",
   "execution_count": 32,
   "metadata": {},
   "outputs": [],
   "source": [
    "callbacks = [\n",
    "    tf.keras.callbacks.EarlyStopping(monitor='loss', patience=50, restore_best_weights=True)\n",
    "]"
   ]
  },
  {
   "cell_type": "code",
   "execution_count": 33,
   "metadata": {},
   "outputs": [
    {
     "name": "stdout",
     "output_type": "stream",
     "text": [
      "WARNING:tensorflow:From /home/joseph/anaconda3/envs/lss/lib/python3.6/site-packages/tensorflow_core/python/ops/resource_variable_ops.py:1630: calling BaseResourceVariable.__init__ (from tensorflow.python.ops.resource_variable_ops) with constraint is deprecated and will be removed in a future version.\n",
      "Instructions for updating:\n",
      "If using Keras pass *_constraint arguments to layers.\n",
      "WARNING:tensorflow:From /home/joseph/anaconda3/envs/lss/lib/python3.6/site-packages/tensorflow_probability/python/distributions/categorical.py:225: Categorical._logits_deprecated_behavior (from tensorflow_probability.python.distributions.categorical) is deprecated and will be removed after 2019-10-01.\n",
      "Instructions for updating:\n",
      "The `logits` property will return `None` when the distribution is parameterized with `logits=None`. Use `logits_parameter()` instead.\n",
      "WARNING:tensorflow:From /home/joseph/anaconda3/envs/lss/lib/python3.6/site-packages/tensorflow_core/python/ops/math_ops.py:2509: where (from tensorflow.python.ops.array_ops) is deprecated and will be removed in a future version.\n",
      "Instructions for updating:\n",
      "Use tf.where in 2.0, which has the same broadcast rule as np.where\n",
      "WARNING:tensorflow:From /media/joseph/Memorex USB/liew/Joe_Liew_LSS/Joe_Liew_LSS/LSS/PRB_1dim/hde/propagator.py:171: The name tf.keras.backend.get_session is deprecated. Please use tf.compat.v1.keras.backend.get_session instead.\n",
      "\n"
     ]
    }
   ],
   "source": [
    "prop = Propagator(\n",
    "    traj_prop_scaled.shape[1], \n",
    "    n_components=n_mix, \n",
    "    lag_time=lag_prop, \n",
    "    batch_size=200000, \n",
    "    learning_rate=lr_prop, \n",
    "    n_epochs=20000,\n",
    "    callbacks=callbacks,\n",
    "    hidden_size=100,\n",
    "    activation='relu'\n",
    ")"
   ]
  },
  {
   "cell_type": "code",
   "execution_count": 34,
   "metadata": {},
   "outputs": [],
   "source": [
    "from hde.propagator import get_mixture_loss_func"
   ]
  },
  {
   "cell_type": "code",
   "execution_count": 35,
   "metadata": {},
   "outputs": [],
   "source": [
    "prop.model.compile(loss=get_mixture_loss_func(prop.input_dim, prop.n_components), optimizer=tf.keras.optimizers.Adam(lr=lr_prop))"
   ]
  },
  {
   "cell_type": "code",
   "execution_count": 36,
   "metadata": {},
   "outputs": [],
   "source": [
    "prop.model.set_weights(pickle.load(open('prop_weights.pkl', 'rb')))"
   ]
  },
  {
   "cell_type": "code",
   "execution_count": 37,
   "metadata": {},
   "outputs": [
    {
     "name": "stdout",
     "output_type": "stream",
     "text": [
      "WARNING:tensorflow:From /media/joseph/Memorex USB/liew/Joe_Liew_LSS/Joe_Liew_LSS/LSS/PRB_1dim/hde/propagator.py:231: The name tf.variable_scope is deprecated. Please use tf.compat.v1.variable_scope instead.\n",
      "\n",
      "WARNING:tensorflow:From /media/joseph/Memorex USB/liew/Joe_Liew_LSS/Joe_Liew_LSS/LSS/PRB_1dim/hde/propagator.py:231: The name tf.AUTO_REUSE is deprecated. Please use tf.compat.v1.AUTO_REUSE instead.\n",
      "\n"
     ]
    }
   ],
   "source": [
    "n_steps = np.int(np.floor(np.float(hde_coords.shape[0])/np.float(lag_prop)))\n",
    "n_traj = 5\n",
    "synth_trajs_scaled = [prop.propagate(traj_prop_scaled[0].reshape(1,-1).astype(np.float32), n_steps).reshape(n_steps, -1) for item in range(n_traj)]\n",
    "synth_trajs = [prop_scaler.inverse_transform(synth_trajs_scaled[i]) for i in range(n_traj)]"
   ]
  },
  {
   "cell_type": "code",
   "execution_count": 39,
   "metadata": {},
   "outputs": [
    {
     "data": {
      "image/png": "[encoded data removed]",
      "text/plain": [
       "<Figure size 432x288 with 1 Axes>"
      ]
     },
     "metadata": {
      "needs_background": "light"
     },
     "output_type": "display_data"
    }
   ],
   "source": [
    "synth_traj_id = 0\n",
    "fig, ax = plt.subplots()\n",
    "\n",
    "if dim_prop==1:\n",
    "    ax.scatter(hde_coords[::lag_prop,0], np.zeros(hde_coords[::lag_prop,0].shape[0]), c='blue', alpha=0.5, cmap='jet')\n",
    "    ax.scatter(synth_trajs[synth_traj_id][:,0], np.zeros(synth_trajs[synth_traj_id][:,0].shape[0]), c='orange', alpha=0.5, cmap='jet')\n",
    "    ax.set_xlabel(r'$\\psi_1$')\n",
    "    ax.set_ylabel(r'$\\psi_2$')\n",
    "else:\n",
    "    ax.scatter(hde_coords[::lag_prop,0], hde_coords[::lag_prop,1], c='blue', alpha=0.5, cmap='jet')\n",
    "    ax.scatter(synth_trajs[synth_traj_id][:,0], synth_trajs[synth_traj_id][:,1], c='orange', alpha=0.5, cmap='jet')\n",
    "    ax.set_xlabel(r'$\\psi_1$')\n",
    "    ax.set_ylabel(r'$\\psi_2$')\n",
    "\n",
    "plt.show()"
   ]
  },
  {
   "cell_type": "code",
   "execution_count": 40,
   "metadata": {},
   "outputs": [
    {
     "data": {
      "image/png": "[encoded data removed]",
      "text/plain": [
       "<Figure size 1728x432 with 1 Axes>"
      ]
     },
     "metadata": {
      "needs_background": "light"
     },
     "output_type": "display_data"
    }
   ],
   "source": [
    "synth_traj_id = 1\n",
    "psi_id = 0\n",
    "\n",
    "fig, ax = plt.subplots(figsize=(24, 6))\n",
    "ax.plot(np.arange(hde_coords[::lag_prop,psi_id].shape[0])*timestep/1E6*lag_prop, hde_coords[::lag_prop,psi_id], color='blue', alpha=0.5, marker='o')\n",
    "ax.plot(np.arange(synth_trajs[synth_traj_id].shape[0])*timestep/1E6*lag_prop, synth_trajs[synth_traj_id][:,psi_id], color='orange', alpha=0.5, marker='o')\n",
    "ax.set_xlabel(r'$t$ (us)')\n",
    "ax.set_ylabel(r'$\\psi$'+str(psi_id+1))\n",
    "plt.show()"
   ]
  },
  {
   "cell_type": "markdown",
   "metadata": {},
   "source": [
    "## (3) generator"
   ]
  },
  {
   "cell_type": "markdown",
   "metadata": {},
   "source": [
    "#### x_train = scaled latent space coordinates"
   ]
  },
  {
   "cell_type": "code",
   "execution_count": 41,
   "metadata": {},
   "outputs": [],
   "source": [
    "x_train = traj_prop_scaled"
   ]
  },
  {
   "cell_type": "markdown",
   "metadata": {},
   "source": [
    "#### y_train = aligned molecular configurations"
   ]
  },
  {
   "cell_type": "code",
   "execution_count": 42,
   "metadata": {},
   "outputs": [],
   "source": [
    "ca_idx = traj_obj.top.select_atom_indices('alpha')\n",
    "traj_ca = traj_obj.atom_slice(ca_idx)"
   ]
  },
  {
   "cell_type": "code",
   "execution_count": 43,
   "metadata": {},
   "outputs": [
    {
     "data": {
      "text/plain": [
       "<mdtraj.Trajectory with 100000 frames, 47 atoms, 47 residues, and unitcells at 0x7f1804169438>"
      ]
     },
     "execution_count": 43,
     "metadata": {},
     "output_type": "execute_result"
    }
   ],
   "source": [
    "traj_ca.superpose(traj_ca[0])"
   ]
  },
  {
   "cell_type": "code",
   "execution_count": 44,
   "metadata": {},
   "outputs": [
    {
     "data": {
      "application/vnd.jupyter.widget-view+json": {
       "model_id": "519004a65a6f496e96fbebfd58b0adc5",
       "version_major": 2,
       "version_minor": 0
      },
      "text/plain": [
       "NGLWidget(count=2000)"
      ]
     },
     "metadata": {},
     "output_type": "display_data"
    }
   ],
   "source": [
    "view = nv.show_mdtraj(traj_ca[::lag_prop])\n",
    "#view.component_0.clear_representations()\n",
    "view.component_0.add_ribbon(color='blue', opacity=0.6)\n",
    "view\n",
    "view"
   ]
  },
  {
   "cell_type": "code",
   "execution_count": 48,
   "metadata": {},
   "outputs": [],
   "source": [
    "xyz = traj_ca.xyz.reshape(-1, traj_ca.n_atoms*3)"
   ]
  },
  {
   "cell_type": "code",
   "execution_count": 49,
   "metadata": {},
   "outputs": [],
   "source": [
    "xyz_scaler = pre.MinMaxScaler(feature_range=(-1,1))"
   ]
  },
  {
   "cell_type": "code",
   "execution_count": 50,
   "metadata": {},
   "outputs": [],
   "source": [
    "y_train = xyz_scaler.fit_transform(xyz)"
   ]
  },
  {
   "cell_type": "code",
   "execution_count": 51,
   "metadata": {},
   "outputs": [],
   "source": [
    "n_atoms = traj_ca.n_atoms"
   ]
  },
  {
   "cell_type": "markdown",
   "metadata": {},
   "source": [
    "#### training cWGAN"
   ]
  },
  {
   "cell_type": "code",
   "execution_count": 52,
   "metadata": {},
   "outputs": [
    {
     "name": "stdout",
     "output_type": "stream",
     "text": [
      "_________________________________________________________________\n",
      "Layer (type)                 Output Shape              Param #   \n",
      "=================================================================\n",
      "dense_7 (Dense)              (None, 200)               10400     \n",
      "_________________________________________________________________\n",
      "dense_8 (Dense)              (None, 200)               40200     \n",
      "_________________________________________________________________\n",
      "dense_9 (Dense)              (None, 141)               28341     \n",
      "=================================================================\n",
      "Total params: 78,941\n",
      "Trainable params: 78,941\n",
      "Non-trainable params: 0\n",
      "_________________________________________________________________\n",
      "_________________________________________________________________\n",
      "Layer (type)                 Output Shape              Param #   \n",
      "=================================================================\n",
      "dense_10 (Dense)             (None, 200)               28600     \n",
      "_________________________________________________________________\n",
      "dense_11 (Dense)             (None, 200)               40200     \n",
      "_________________________________________________________________\n",
      "dense_12 (Dense)             (None, 1)                 201       \n",
      "=================================================================\n",
      "Total params: 69,001\n",
      "Trainable params: 69,001\n",
      "Non-trainable params: 0\n",
      "_________________________________________________________________\n",
      "WARNING:tensorflow:From /home/joseph/anaconda3/envs/lss/lib/python3.6/site-packages/keras/optimizers.py:790: The name tf.train.Optimizer is deprecated. Please use tf.compat.v1.train.Optimizer instead.\n",
      "\n"
     ]
    }
   ],
   "source": [
    "molgen = MolGen(\n",
    "    latent_dim=x_train.shape[1],\n",
    "    output_dim=y_train.shape[1],\n",
    "    batch_size=30000,\n",
    "    noise_dim=50,\n",
    "    n_epochs=2500,\n",
    "    hidden_layer_depth=2,\n",
    "    hidden_size=200,\n",
    "    n_discriminator=5\n",
    ")"
   ]
  },
  {
   "cell_type": "code",
   "execution_count": 53,
   "metadata": {},
   "outputs": [],
   "source": [
    "def swish(x):\n",
    "    return (K.sigmoid(x) * x)\n",
    "molgen.generator = tf.keras.models.load_model('molgen_generator.h5', custom_objects={'swish': swish},compile=False)\n",
    "molgen.discriminator = tf.keras.models.load_model('molgen_discriminator.h5', custom_objects={'swish': swish},compile=False)\n",
    "molgen.is_fitted = True# need to override after loading to allow molgen.transform to proceed\n"
   ]
  },
  {
   "cell_type": "markdown",
   "metadata": {},
   "source": [
    "#### decoding synthetic propagator trajectories"
   ]
  },
  {
   "cell_type": "code",
   "execution_count": 54,
   "metadata": {},
   "outputs": [
    {
     "name": "stdout",
     "output_type": "stream",
     "text": [
      "2000\n"
     ]
    }
   ],
   "source": [
    "assert molgen.is_fitted == True\n",
    "print(len(synth_trajs_scaled[synth_traj_id]))"
   ]
  },
  {
   "cell_type": "code",
   "execution_count": 55,
   "metadata": {},
   "outputs": [
    {
     "data": {
      "text/plain": [
       "array([[[-1.6039094 ,  0.7464785 ,  0.95830554],\n",
       "        [-1.4262803 ,  0.37829694,  0.88017553],\n",
       "        [-0.7912547 ,  0.76106256,  1.0380229 ],\n",
       "        ...,\n",
       "        [-0.25495964, -0.7953017 , -0.7917156 ],\n",
       "        [-0.9440546 , -1.1566862 , -1.6429887 ],\n",
       "        [-0.86713284, -1.4000982 , -1.6161243 ]],\n",
       "\n",
       "       [[-1.0221257 ,  0.2559096 ,  0.7918158 ],\n",
       "        [-1.1229655 ,  0.31346595,  1.3122661 ],\n",
       "        [-0.63230723,  0.48283997,  0.38294607],\n",
       "        ...,\n",
       "        [ 0.32972   ,  0.24400215, -1.0377299 ],\n",
       "        [ 0.6853742 ,  0.16573352, -1.0272933 ],\n",
       "        [ 0.9302806 ,  0.3638083 , -0.86759585]],\n",
       "\n",
       "       [[-0.98786396,  0.8695262 ,  0.6905369 ],\n",
       "        [-1.1052674 ,  0.45127404,  0.82203823],\n",
       "        [-0.8349013 ,  0.26305953,  0.67046064],\n",
       "        ...,\n",
       "        [ 0.4457301 ,  0.536754  , -0.7526531 ],\n",
       "        [-0.05875027,  0.4263128 , -0.8362599 ],\n",
       "        [ 0.41504505,  0.314136  , -0.67018163]],\n",
       "\n",
       "       ...,\n",
       "\n",
       "       [[-0.55987996,  0.01205783,  0.8495222 ],\n",
       "        [-0.7454094 , -0.1504929 ,  0.6904077 ],\n",
       "        [-0.45827338, -0.29773018,  0.633402  ],\n",
       "        ...,\n",
       "        [ 0.4406247 ,  0.05887989, -1.1187031 ],\n",
       "        [ 0.28578466,  0.2152997 , -1.2439033 ],\n",
       "        [-0.1173701 ,  0.2640633 , -0.99265444]],\n",
       "\n",
       "       [[ 0.47632304,  0.1216717 ,  1.7599752 ],\n",
       "        [ 0.62785983, -0.02034247,  2.158304  ],\n",
       "        [ 0.6983864 , -0.0474483 ,  2.0607374 ],\n",
       "        ...,\n",
       "        [-0.55170995,  0.96614444,  0.50331235],\n",
       "        [-0.52315843,  0.7259    ,  0.02467157],\n",
       "        [-0.8735759 ,  0.44000214,  0.30720142]],\n",
       "\n",
       "       [[ 0.7938576 , -0.77515286,  0.6723647 ],\n",
       "        [ 0.8006029 , -0.5356595 ,  0.6858457 ],\n",
       "        [ 0.537871  , -0.8198852 ,  1.1157566 ],\n",
       "        ...,\n",
       "        [ 0.8094596 ,  1.1182026 , -1.2183459 ],\n",
       "        [ 0.76500005,  1.8292468 , -1.4041016 ],\n",
       "        [ 1.2651653 ,  2.0096986 , -1.4956214 ]]], dtype=float32)"
      ]
     },
     "execution_count": 55,
     "metadata": {},
     "output_type": "execute_result"
    }
   ],
   "source": [
    "synth_traj_id = 1\n",
    "xyz_synth = xyz_scaler.inverse_transform(molgen.transform(synth_trajs_scaled[synth_traj_id])).reshape(-1, n_atoms, 3)\n",
    "xyz_synth"
   ]
  },
  {
   "cell_type": "code",
   "execution_count": 56,
   "metadata": {},
   "outputs": [],
   "source": [
    "with open('synth.xyz', 'w') as f:\n",
    "    for i in range(xyz_synth.shape[0]):\n",
    "        f.write('%d\\n' % n_atoms)\n",
    "        f.write('\\n')\n",
    "        for k in range(n_atoms):\n",
    "            f.write('%3s%17.9f%17.9f%17.9f\\n' % ('C', xyz_synth[i][k][0]*10, xyz_synth[i][k][1]*10, xyz_synth[i][k][2]*10) ) # nm to Angstroms for xyz write"
   ]
  },
  {
   "cell_type": "code",
   "execution_count": 57,
   "metadata": {},
   "outputs": [],
   "source": [
    "traj_ca[0].save_pdb('synth.pdb')"
   ]
  },
  {
   "cell_type": "code",
   "execution_count": 58,
   "metadata": {},
   "outputs": [],
   "source": [
    "traj_ca_synth = copy.deepcopy(traj_ca)"
   ]
  },
  {
   "cell_type": "code",
   "execution_count": 59,
   "metadata": {},
   "outputs": [
    {
     "data": {
      "text/plain": [
       "<mdtraj.Trajectory with 100000 frames, 47 atoms, 47 residues, and unitcells at 0x7f1807358f60>"
      ]
     },
     "execution_count": 59,
     "metadata": {},
     "output_type": "execute_result"
    }
   ],
   "source": [
    "traj_ca_synth"
   ]
  },
  {
   "cell_type": "code",
   "execution_count": 60,
   "metadata": {},
   "outputs": [],
   "source": [
    "traj_synth_obj = md.load('synth.xyz', top='synth.pdb')"
   ]
  },
  {
   "cell_type": "code",
   "execution_count": 61,
   "metadata": {},
   "outputs": [
    {
     "data": {
      "text/plain": [
       "<mdtraj.Trajectory with 2000 frames, 47 atoms, 47 residues, without unitcells at 0x7f1820595470>"
      ]
     },
     "execution_count": 61,
     "metadata": {},
     "output_type": "execute_result"
    }
   ],
   "source": [
    "traj_synth_obj.center_coordinates(mass_weighted=False)\n",
    "traj_synth_obj.superpose(traj_synth_obj[0])"
   ]
  },
  {
   "cell_type": "code",
   "execution_count": 62,
   "metadata": {},
   "outputs": [
    {
     "data": {
      "application/vnd.jupyter.widget-view+json": {
       "model_id": "061783c97a104b54af2cd68f0ea3c100",
       "version_major": 2,
       "version_minor": 0
      },
      "text/plain": [
       "NGLWidget(count=2000)"
      ]
     },
     "metadata": {},
     "output_type": "display_data"
    }
   ],
   "source": [
    "view = nv.show_mdtraj(traj_synth_obj)\n",
    "view.component_0.clear_representations()\n",
    "view.component_0.add_ribbon(color='red', opacity=0.6)\n",
    "view"
   ]
  },
  {
   "cell_type": "markdown",
   "metadata": {},
   "source": [
    "## (4) comparison"
   ]
  },
  {
   "cell_type": "markdown",
   "metadata": {},
   "source": [
    "### thermodynamics (FES)"
   ]
  },
  {
   "cell_type": "markdown",
   "metadata": {},
   "source": [
    "1D PMF in leading SRV coordinate\n",
    "\n",
    "adding one pseudo-count to each bin as regularization and avoiding infinite free energies\n"
   ]
  },
  {
   "cell_type": "code",
   "execution_count": 63,
   "metadata": {},
   "outputs": [],
   "source": [
    "# MD 1D PMF mean\n",
    "n_bins = 50\n",
    "pdf_MD, bin_edges = np.histogram(hde_coords[:,0], bins=n_bins, density=True)\n",
    "bin_mids = bin_edges[:-1]+0.5*(bin_edges[1]-bin_edges[0])\n",
    "\n",
    "pdf_MD += 1./(len(hde_coords[:,0])*(bin_edges[1]-bin_edges[0])) # adding one pseudo-count per bin\n",
    "pmf_MD = -np.log(pdf_MD)\n",
    "pmf_MD -= np.mean(pmf_MD[np.isfinite(pmf_MD)]) # optimal mutual least squares alignment"
   ]
  },
  {
   "cell_type": "code",
   "execution_count": 64,
   "metadata": {},
   "outputs": [],
   "source": [
    "# MD 1D PMF block averages\n",
    "pmf_MD_block = []\n",
    "n_blocks=5\n",
    "for i in range(n_blocks):\n",
    "    \n",
    "    data_i = np.array_split(hde_coords[:,0],n_blocks,axis=0)[i] #block splits\n",
    "    \n",
    "    pdf_MD_i, _ = np.histogram(data_i, bins=bin_edges, density=True)\n",
    "    pdf_MD_i += 1./(len(data_i)*(bin_edges[1]-bin_edges[0])) # adding one pseudo-count per bin\n",
    "    \n",
    "    pmf_MD_i = -np.log(pdf_MD_i)\n",
    "    pmf_MD_i -= np.mean(pmf_MD_i[np.isfinite(pmf_MD_i)]) # optimal mutual least squares alignment\n",
    "    pmf_MD_block.append(pmf_MD_i)\n",
    "    \n",
    "pmf_MD_block = np.array(pmf_MD_block)\n",
    "pmf_MD_stderr = np.std(pmf_MD_block, axis=0)/np.sqrt(n_blocks)"
   ]
  },
  {
   "cell_type": "code",
   "execution_count": 65,
   "metadata": {},
   "outputs": [],
   "source": [
    "# shifting global minimum to zero of optimally least squares aligned landscapes\n",
    "PMF_shift = min(pmf_MD)\n",
    "pmf_MD -= PMF_shift\n",
    "for i in range(n_blocks):\n",
    "    pmf_MD_block[i] -= PMF_shift"
   ]
  },
  {
   "cell_type": "code",
   "execution_count": 66,
   "metadata": {},
   "outputs": [
    {
     "data": {
      "text/plain": [
       "<function matplotlib.pyplot.show(*args, **kw)>"
      ]
     },
     "execution_count": 66,
     "metadata": {},
     "output_type": "execute_result"
    },
    {
     "data": {
      "image/png": "[encoded data removed]",
      "text/plain": [
       "<Figure size 432x288 with 1 Axes>"
      ]
     },
     "metadata": {
      "needs_background": "light"
     },
     "output_type": "display_data"
    }
   ],
   "source": [
    "# plotting full and block PMFs\n",
    "fig, ax = plt.subplots()\n",
    "for i in range(n_blocks):\n",
    "    ax.plot(bin_mids, pmf_MD_block[i])\n",
    "im = ax.plot(bin_mids, pmf_MD, color='black', linewidth=3)\n",
    "plt.xlabel(r'$\\psi_1$')\n",
    "plt.ylabel(r'$G$ ($k_BT$)')\n",
    "plt.show"
   ]
  },
  {
   "cell_type": "code",
   "execution_count": 67,
   "metadata": {},
   "outputs": [
    {
     "data": {
      "text/plain": [
       "<function matplotlib.pyplot.show(*args, **kw)>"
      ]
     },
     "execution_count": 67,
     "metadata": {},
     "output_type": "execute_result"
    },
    {
     "data": {
      "image/png": "[encoded data removed]",
      "text/plain": [
       "<Figure size 432x288 with 1 Axes>"
      ]
     },
     "metadata": {
      "needs_background": "light"
     },
     "output_type": "display_data"
    }
   ],
   "source": [
    "# plotting full PMFs with 95% CI (1.96 standard deviations in standard error)\n",
    "fig, ax = plt.subplots()\n",
    "ax.plot(bin_mids, pmf_MD, color='blue')\n",
    "ax.fill_between(bin_mids, pmf_MD-1.96*pmf_MD_stderr, pmf_MD+1.96*pmf_MD_stderr, alpha=0.2, color='blue')\n",
    "plt.xlabel(r'$\\psi_1$')\n",
    "plt.ylabel(r'$G$ ($k_BT$)')\n",
    "plt.show"
   ]
  },
  {
   "cell_type": "code",
   "execution_count": 68,
   "metadata": {},
   "outputs": [],
   "source": [
    "# LSS 1D PMF mean\n",
    "synth_trajs_CONCAT = np.zeros((0,))\n",
    "for i in range(n_traj):\n",
    "    synth_trajs_CONCAT = np.concatenate((synth_trajs_CONCAT,synth_trajs[i][:,0]), axis=0)\n",
    "pdf_LSS, _ = np.histogram(synth_trajs_CONCAT, bins=n_bins, density=True)\n",
    "\n",
    "pdf_LSS += 1./(len(synth_trajs_CONCAT)*(bin_edges[1]-bin_edges[0])) # adding one pseudo-count per bin\n",
    "pmf_LSS = -np.log(pdf_LSS)\n",
    "pmf_LSS -= np.mean(pmf_LSS[np.isfinite(pmf_LSS)]) # optimal mutual least squares alignment"
   ]
  },
  {
   "cell_type": "code",
   "execution_count": 69,
   "metadata": {},
   "outputs": [],
   "source": [
    "# LSS 1D PMF block averages\n",
    "pmf_LSS_block = []\n",
    "n_blocks=5\n",
    "for i in range(n_blocks):\n",
    "    \n",
    "    data_i = np.array_split(synth_trajs_CONCAT,n_blocks,axis=0)[i] #block splits\n",
    "    \n",
    "    pdf_LSS_i, _ = np.histogram(data_i, bins=bin_edges, density=True)\n",
    "    pdf_LSS_i += 1./(len(data_i)*(bin_edges[1]-bin_edges[0])) # adding one pseudo-count per bin\n",
    "    \n",
    "    pmf_LSS_i = -np.log(pdf_LSS_i)\n",
    "    pmf_LSS_i -= np.mean(pmf_LSS_i[np.isfinite(pmf_LSS_i)]) # optimal mutual least squares alignment\n",
    "    pmf_LSS_block.append(pmf_LSS_i)\n",
    "    \n",
    "pmf_LSS_block = np.array(pmf_LSS_block)\n",
    "pmf_LSS_stderr = np.std(pmf_LSS_block, axis=0)/np.sqrt(n_blocks)"
   ]
  },
  {
   "cell_type": "code",
   "execution_count": 70,
   "metadata": {},
   "outputs": [],
   "source": [
    "# shifting global minimum to zero of optimally least squares aligned landscapes\n",
    "PMF_shift = min(pmf_LSS)\n",
    "pmf_LSS -= PMF_shift\n",
    "for i in range(n_blocks):\n",
    "    pmf_LSS_block[i] -= PMF_shift"
   ]
  },
  {
   "cell_type": "code",
   "execution_count": 71,
   "metadata": {},
   "outputs": [
    {
     "name": "stdout",
     "output_type": "stream",
     "text": [
      "[ 1.44812006  2.87077737  3.03112472  2.76542155  3.96939436  3.52755708\n",
      "  3.33340559  3.33340559  3.03112238  2.83441442  2.76541919  2.35995406\n",
      "  2.21537521  1.86255143  1.55149842  1.40444258  1.55149842  1.96192391\n",
      "  2.14126724  2.67010901  2.64025841  2.98856277  3.27624487  3.39403021\n",
      "  3.68171005  3.39403021  4.08717526  3.76872255  4.08717632  3.76872255\n",
      "  4.22070774  3.96939327  4.37485845  3.86403274  3.76872255  3.52756047\n",
      "  3.60166789  3.45856759  3.45856759  4.22070722  3.76872255  3.68171117\n",
      "  3.86403274  3.76872227  3.96939327  3.76872241  5.4734711   5.47347107\n",
      "  5.06800578 -0.43732626]\n"
     ]
    },
    {
     "data": {
      "image/png": "[encoded data removed]",
      "text/plain": [
       "<Figure size 432x288 with 1 Axes>"
      ]
     },
     "metadata": {
      "needs_background": "light"
     },
     "output_type": "display_data"
    }
   ],
   "source": [
    "x = np.zeros(len(pmf_LSS_block[0]))\n",
    "fig, ax = plt.subplots()\n",
    "for i in range(n_blocks):\n",
    "    x += pmf_LSS_block[i]/n_blocks\n",
    "    ax.plot(bin_mids, pmf_LSS_block[i])\n",
    "im = ax.plot(bin_mids, x, color='black', linewidth=3)\n",
    "plt.xlabel(r'$\\psi_1$')\n",
    "plt.ylabel(r'$G$ ($k_BT$)')\n",
    "plt.show\n",
    "print(pmf_LSS_block[1])\n",
    "pmf_LSS = x"
   ]
  },
  {
   "cell_type": "code",
   "execution_count": 72,
   "metadata": {},
   "outputs": [
    {
     "data": {
      "text/plain": [
       "<function matplotlib.pyplot.show(*args, **kw)>"
      ]
     },
     "execution_count": 72,
     "metadata": {},
     "output_type": "execute_result"
    },
    {
     "data": {
      "image/png": "[encoded data removed]",
      "text/plain": [
       "<Figure size 432x288 with 1 Axes>"
      ]
     },
     "metadata": {
      "needs_background": "light"
     },
     "output_type": "display_data"
    }
   ],
   "source": [
    "fig, ax = plt.subplots()\n",
    "ax.plot(bin_mids, pmf_LSS, color='orange')\n",
    "ax.fill_between(bin_mids, pmf_LSS-pmf_LSS_stderr, pmf_LSS+pmf_LSS_stderr, alpha=0.2, color='orange')\n",
    "plt.xlabel(r'$\\psi_1$')\n",
    "plt.ylabel(r'$G$ ($k_BT$)')\n",
    "plt.show"
   ]
  },
  {
   "cell_type": "code",
   "execution_count": 73,
   "metadata": {
    "scrolled": true
   },
   "outputs": [
    {
     "data": {
      "text/plain": [
       "<function matplotlib.pyplot.show(*args, **kw)>"
      ]
     },
     "execution_count": 73,
     "metadata": {},
     "output_type": "execute_result"
    },
    {
     "data": {
      "image/png": "[encoded data removed]",
      "text/plain": [
       "<Figure size 432x288 with 1 Axes>"
      ]
     },
     "metadata": {
      "needs_background": "light"
     },
     "output_type": "display_data"
    }
   ],
   "source": [
    "fig, ax = plt.subplots()\n",
    "ax.plot(bin_mids, pmf_MD, color='blue', label='MD')\n",
    "ax.fill_between(bin_mids, pmf_MD-1.96*pmf_MD_stderr, pmf_MD+1.96*pmf_MD_stderr, alpha=0.2, color='blue')\n",
    "ax.plot(bin_mids, pmf_LSS, color='orange', label='LSS')\n",
    "ax.fill_between(bin_mids, pmf_LSS-1.96*pmf_LSS_stderr, pmf_LSS+1.96*pmf_LSS_stderr, alpha=0.2, color='orange')\n",
    "plt.xlabel(r'$\\psi_1$')\n",
    "plt.ylabel(r'$G$ ($k_BT$)')\n",
    "ax.legend()\n",
    "plt.show"
   ]
  },
  {
   "cell_type": "markdown",
   "metadata": {},
   "source": [
    "<h3> $\\psi_2$ thermo </h3>"
   ]
  },
  {
   "cell_type": "code",
   "execution_count": 74,
   "metadata": {},
   "outputs": [
    {
     "ename": "IndexError",
     "evalue": "index 1 is out of bounds for axis 1 with size 1",
     "output_type": "error",
     "traceback": [
      "\u001b[0;31m---------------------------------------------------------------------------\u001b[0m",
      "\u001b[0;31mIndexError\u001b[0m                                Traceback (most recent call last)",
      "\u001b[0;32m<ipython-input-74-dca28617bf8f>\u001b[0m in \u001b[0;36m<module>\u001b[0;34m\u001b[0m\n\u001b[1;32m      2\u001b[0m \u001b[0mpsi_index\u001b[0m \u001b[0;34m=\u001b[0m \u001b[0;36m1\u001b[0m\u001b[0;34m\u001b[0m\u001b[0;34m\u001b[0m\u001b[0m\n\u001b[1;32m      3\u001b[0m \u001b[0mn_bins\u001b[0m \u001b[0;34m=\u001b[0m \u001b[0;36m50\u001b[0m\u001b[0;34m\u001b[0m\u001b[0;34m\u001b[0m\u001b[0m\n\u001b[0;32m----> 4\u001b[0;31m \u001b[0mpdf_MD\u001b[0m\u001b[0;34m,\u001b[0m \u001b[0mbin_edges\u001b[0m \u001b[0;34m=\u001b[0m \u001b[0mnp\u001b[0m\u001b[0;34m.\u001b[0m\u001b[0mhistogram\u001b[0m\u001b[0;34m(\u001b[0m\u001b[0mhde_coords\u001b[0m\u001b[0;34m[\u001b[0m\u001b[0;34m:\u001b[0m\u001b[0;34m,\u001b[0m\u001b[0mpsi_index\u001b[0m\u001b[0;34m]\u001b[0m\u001b[0;34m,\u001b[0m \u001b[0mbins\u001b[0m\u001b[0;34m=\u001b[0m\u001b[0mn_bins\u001b[0m\u001b[0;34m,\u001b[0m \u001b[0mdensity\u001b[0m\u001b[0;34m=\u001b[0m\u001b[0;32mTrue\u001b[0m\u001b[0;34m)\u001b[0m\u001b[0;34m\u001b[0m\u001b[0;34m\u001b[0m\u001b[0m\n\u001b[0m\u001b[1;32m      5\u001b[0m \u001b[0mbin_mids\u001b[0m \u001b[0;34m=\u001b[0m \u001b[0mbin_edges\u001b[0m\u001b[0;34m[\u001b[0m\u001b[0;34m:\u001b[0m\u001b[0;34m-\u001b[0m\u001b[0;36m1\u001b[0m\u001b[0;34m]\u001b[0m\u001b[0;34m+\u001b[0m\u001b[0;36m0.5\u001b[0m\u001b[0;34m*\u001b[0m\u001b[0;34m(\u001b[0m\u001b[0mbin_edges\u001b[0m\u001b[0;34m[\u001b[0m\u001b[0;36m1\u001b[0m\u001b[0;34m]\u001b[0m\u001b[0;34m-\u001b[0m\u001b[0mbin_edges\u001b[0m\u001b[0;34m[\u001b[0m\u001b[0;36m0\u001b[0m\u001b[0;34m]\u001b[0m\u001b[0;34m)\u001b[0m\u001b[0;34m\u001b[0m\u001b[0;34m\u001b[0m\u001b[0m\n\u001b[1;32m      6\u001b[0m \u001b[0;34m\u001b[0m\u001b[0m\n",
      "\u001b[0;31mIndexError\u001b[0m: index 1 is out of bounds for axis 1 with size 1"
     ]
    }
   ],
   "source": [
    "# MD 1D PMF mean\n",
    "psi_index = 1\n",
    "n_bins = 50\n",
    "pdf_MD, bin_edges = np.histogram(hde_coords[:,psi_index], bins=n_bins, density=True)\n",
    "bin_mids = bin_edges[:-1]+0.5*(bin_edges[1]-bin_edges[0])\n",
    "\n",
    "pdf_MD += 1./(len(hde_coords[:,psi_index])*(bin_edges[1]-bin_edges[0])) # adding one pseudo-count per bin\n",
    "pmf_MD = -np.log(pdf_MD)\n",
    "pmf_MD -= np.mean(pmf_MD[np.isfinite(pmf_MD)]) # optimal mutual least squares alignment"
   ]
  },
  {
   "cell_type": "code",
   "execution_count": null,
   "metadata": {},
   "outputs": [],
   "source": [
    "# MD 1D PMF block averages\n",
    "pmf_MD_block = []\n",
    "n_blocks=5\n",
    "for i in range(n_blocks):\n",
    "    \n",
    "    data_i = np.array_split(hde_coords[:,psi_index],n_blocks,axis=0)[i] #block splits\n",
    "    \n",
    "    pdf_MD_i, _ = np.histogram(data_i, bins=bin_edges, density=True)\n",
    "    pdf_MD_i += 1./(len(data_i)*(bin_edges[1]-bin_edges[0])) # adding one pseudo-count per bin\n",
    "    \n",
    "    pmf_MD_i = -np.log(pdf_MD_i)\n",
    "    pmf_MD_i -= np.mean(pmf_MD_i[np.isfinite(pmf_MD_i)]) # optimal mutual least squares alignment\n",
    "    pmf_MD_block.append(pmf_MD_i)\n",
    "    \n",
    "pmf_MD_block = np.array(pmf_MD_block)\n",
    "pmf_MD_stderr = np.std(pmf_MD_block, axis=0)/np.sqrt(n_blocks)"
   ]
  },
  {
   "cell_type": "code",
   "execution_count": null,
   "metadata": {},
   "outputs": [],
   "source": [
    "# shifting global minimum to zero of optimally least squares aligned landscapes\n",
    "PMF_shift = min(pmf_MD)\n",
    "pmf_MD -= PMF_shift\n",
    "for i in range(n_blocks):\n",
    "    pmf_MD_block[i] -= PMF_shift"
   ]
  },
  {
   "cell_type": "markdown",
   "metadata": {},
   "source": [
    "### kinetic (relaxation times)"
   ]
  },
  {
   "cell_type": "code",
   "execution_count": 75,
   "metadata": {},
   "outputs": [],
   "source": [
    "def compute_autocorr_time(signal, delays):\n",
    "    ac=[]\n",
    "    for j in delays:\n",
    "        if type(signal) is list:\n",
    "            z = np.concatenate([item[:] for item in signal])\n",
    "            x = np.concatenate([item[:-j] for item in signal])\n",
    "            y = np.concatenate([item[j:] for item in signal])\n",
    "        else:\n",
    "            z = signal[:]\n",
    "            x = signal[:-j]\n",
    "            y = signal[j:]\n",
    "        ac.append(np.mean(x*y, axis=0)/np.mean(z*z, axis=0))\n",
    "    return np.array(ac)"
   ]
  },
  {
   "cell_type": "code",
   "execution_count": 76,
   "metadata": {},
   "outputs": [],
   "source": [
    "# MD mean autocorrelation and implied relaxation time\n",
    "ac_MD = compute_autocorr_time(hde_coords[:,:dim_prop], [lag_prop])\n",
    "relax_MD = -lag_prop/np.log(ac_MD)*timestep/1E3"
   ]
  },
  {
   "cell_type": "code",
   "execution_count": 77,
   "metadata": {},
   "outputs": [],
   "source": [
    "# MD block average standard error estimate\n",
    "ac_MD_block = []\n",
    "n_blocks=5\n",
    "for i in range(n_blocks):\n",
    "    ac_MD_i = compute_autocorr_time(np.array_split(hde_coords[:,:dim_prop],n_blocks,axis=0)[i], [lag_prop])\n",
    "    ac_MD_block.append(ac_MD_i)\n",
    "ac_MD_block = np.array(ac_MD_block)\n",
    "ac_MD_block = ac_MD_block.reshape(n_blocks,dim_prop)\n",
    "\n",
    "relax_MD_block = -lag_prop/np.log(ac_MD_block)*timestep/1E3\n",
    "relax_MD_stderr = np.std(relax_MD_block, axis=0)/np.sqrt(n_blocks)"
   ]
  },
  {
   "cell_type": "code",
   "execution_count": 78,
   "metadata": {},
   "outputs": [
    {
     "name": "stdout",
     "output_type": "stream",
     "text": [
      "MD relaxation times (ns) = \n",
      "-89435.781250 +/- 29594.789062\n"
     ]
    }
   ],
   "source": [
    "print('MD relaxation times (ns) = ')\n",
    "for i in range(relax_MD.shape[1]):\n",
    "    print('%f +/- %f' % (relax_MD[0,i], relax_MD_stderr[i]))"
   ]
  },
  {
   "cell_type": "code",
   "execution_count": 79,
   "metadata": {},
   "outputs": [],
   "source": [
    "# LSS mean autocorrelation and implied relaxation time\n",
    "ac_LSS = compute_autocorr_time(synth_trajs, [1])\n",
    "relax_LSS = -lag_prop/np.log(ac_LSS)*timestep/1E3"
   ]
  },
  {
   "cell_type": "code",
   "execution_count": 80,
   "metadata": {},
   "outputs": [],
   "source": [
    "# LSS block average standard error estimate\n",
    "# N.B. Blocks in this case are over complete indepenent LSS trajectories since data must be continuous\n",
    "\n",
    "assert n_traj >= 5 # need at least 5 independent trajectories for reasonable blocks\n",
    "\n",
    "ac_LSS_block = []\n",
    "for i in range(n_traj):\n",
    "    ac_LSS_i = compute_autocorr_time(synth_trajs[i], [1])\n",
    "    ac_LSS_block.append(ac_LSS_i)\n",
    "ac_LSS_block = np.array(ac_LSS_block)\n",
    "ac_LSS_block = ac_LSS_block.reshape(n_traj,synth_trajs[0].shape[1])\n",
    "\n",
    "relax_LSS_block = -lag_prop/np.log(ac_LSS_block)*timestep/1E3\n",
    "relax_LSS_stderr = np.std(relax_LSS_block, axis=0)/np.sqrt(n_traj)"
   ]
  },
  {
   "cell_type": "code",
   "execution_count": 81,
   "metadata": {},
   "outputs": [
    {
     "name": "stdout",
     "output_type": "stream",
     "text": [
      "LSS relaxation times (ns) = \n",
      "8306.311523 +/- 1245.498413\n"
     ]
    }
   ],
   "source": [
    "print('LSS relaxation times (ns) = ')\n",
    "for i in range(relax_LSS.shape[1]):\n",
    "    print('%f +/- %f' % (relax_LSS[0,i], relax_LSS_stderr[i]))"
   ]
  },
  {
   "cell_type": "markdown",
   "metadata": {},
   "source": [
    "### structure (RMSD)"
   ]
  },
  {
   "cell_type": "raw",
   "metadata": {},
   "source": [
    "TO DO: \n",
    "Follow protocol in Chem. Sci., 2020, 11, 9459 (77.pdf) - \"Structures\" on p. 9464\n",
    "\n",
    "- extract MD and LSS structures in the metastable basins and compare their relative Calpha RMSD using mdtraj or MDAnalysis libraries; note that this is a pairwise calculation -- given N_MD structures and N_LSS structures within a particular metastable basin, what is the mean value of RMSD_ij where i=1..N_MD and j=1..N_LSS\n",
    "\n",
    "- for this protein system we have two metastable states at \\psi_1 ~ (-1.3) and (+0.7) so we should analyze the structures in both these basins by extracting snapshots from the MD and LSS trajectories with \\psi_1 values of, say, [-1.4, -1.2] and [0.6, 0.8]. Depending on how many frames you extract, you may wish to loosen or tighten these bounds."
   ]
  },
  {
   "cell_type": "code",
   "execution_count": 82,
   "metadata": {},
   "outputs": [],
   "source": [
    "#xyz_synth = xyz_scaler.inverse_transform(molgen.transform(synth_trajs_scaled[synth_traj_id])).reshape(-1, n_atoms, 3)"
   ]
  },
  {
   "cell_type": "code",
   "execution_count": 83,
   "metadata": {},
   "outputs": [],
   "source": [
    "def writeToXYZ(xyz_coordinates, filename):\n",
    "    with open(filename, 'w') as f:\n",
    "        for i in range(xyz_coordinates.shape[0]):\n",
    "            f.write('%d\\n' % n_atoms)\n",
    "            f.write('\\n')\n",
    "            for k in range(n_atoms):\n",
    "                f.write('%3s%17.9f%17.9f%17.9f\\n' % ('C', xyz_synth[i][k][0]*10, xyz_synth[i][k][1]*10, xyz_synth[i][k][2]*10) ) # nm to Angstroms for xyz write\n",
    "\n",
    "                \n",
    "def xyzToTraj(xyz_coordinates,fn=\"temp.xyz\"):\n",
    "    writeToXYZ(xyz_coordinates, fn)\n",
    "    traj = md.load(fn, top='synth.pdb')\n",
    "    return traj"
   ]
  },
  {
   "cell_type": "code",
   "execution_count": 158,
   "metadata": {
    "scrolled": true
   },
   "outputs": [
    {
     "name": "stdout",
     "output_type": "stream",
     "text": [
      "Finding Frames for Traj  0\n",
      "Finding Frames for Traj  1\n",
      "Finding Frames for Traj  2\n",
      "Finding Frames for Traj  3\n",
      "Finding Frames for Traj  4\n"
     ]
    }
   ],
   "source": [
    "'''\n",
    "    ~~~RMSD Calculation~~~\n",
    "    k = frames where the indexed LSS trajectory is in the metastable basin1\n",
    "    l = frames where the MD obj trajectory is in the mestable basin1\n",
    "    \n",
    "    n = frames where the indexed LSS trajectory is in the metastable basin2\n",
    "    m = frames where the MD obj trajectory is in the mestable basin2\n",
    "\n",
    "    t = traj containing all corresponding LSS frames for basin 1\n",
    "    s = traj containing all corresponding LSS frames for basin 2\n",
    "    \n",
    "'''\n",
    "lowerBasin1 = -1.9\n",
    "upperBasin1 = -1.5\n",
    "\n",
    "lowerBasin2 = 0.5\n",
    "upperBasin2 = 0.9\n",
    "\n",
    "\n",
    "l = np.where(np.logical_and(hde_coords[:,0]>=lowerBasin1, hde_coords[:,0]<=upperBasin1))\n",
    "m = np.where(np.logical_and(hde_coords[:,0]>=lowerBasin2, hde_coords[:,0]<=upperBasin2))\n",
    "\n",
    "\n",
    "for i in range(len(synth_trajs)):\n",
    "    print(\"Finding Frames for Traj \",i)\n",
    "    k = np.where(np.logical_and(synth_trajs[i][:,0]>=lowerBasin1, synth_trajs[0][:,0]<=upperBasin1))\n",
    "    n = np.where(np.logical_and(synth_trajs[i][:,0]>=lowerBasin2, synth_trajs[0][:,0]<=upperBasin2))\n",
    "    xyzi = xyz_scaler.inverse_transform(molgen.transform(synth_trajs_scaled[i])).reshape(-1, n_atoms, 3)\n",
    "    if(i == 0): t = xyzToTraj(xyzi)[k]\n",
    "    else: t = md.join([t,xyzToTraj(xyzi)[k]])\n",
    "    if(i == 0): s = xyzToTraj(xyzi)[n]\n",
    "    else: s = md.join([t,xyzToTraj(xyzi)[n]])"
   ]
  },
  {
   "cell_type": "code",
   "execution_count": 159,
   "metadata": {},
   "outputs": [
    {
     "name": "stdout",
     "output_type": "stream",
     "text": [
      "Basin One RMSD is  0.77275634  nm. Found  1450 LSS frames in Basin One and  23695  MD frames\n",
      "Basin Two RMSD is  0.94161195  nm. Found  2580 LSS frames in Basin Two and  67734  MD frames\n"
     ]
    }
   ],
   "source": [
    "rmsd1 = np.mean(md.rmsd(t, traj_ca[l]))\n",
    "rmsd2 = np.mean(md.rmsd(s, traj_ca[m]))\n",
    "print(\"Basin One RMSD is \", rmsd1, \" nm. Found \", len(t), \"LSS frames in Basin One and \", len(l[0]), \" MD frames\")\n",
    "print(\"Basin Two RMSD is \", rmsd2, \" nm. Found \", len(s), \"LSS frames in Basin Two and \", len(m[0]), \" MD frames\")"
   ]
  },
  {
   "cell_type": "code",
   "execution_count": null,
   "metadata": {},
   "outputs": [],
   "source": [
    "np.where(np.logical_and(hde_coords[:,0]>=lowerBasin2, hde_coords[:,0]<=upperBasin2))"
   ]
  },
  {
   "cell_type": "code",
   "execution_count": null,
   "metadata": {},
   "outputs": [],
   "source": [
    "67734/23695"
   ]
  },
  {
   "cell_type": "code",
   "execution_count": null,
   "metadata": {},
   "outputs": [],
   "source": []
  },
  {
   "cell_type": "code",
   "execution_count": null,
   "metadata": {},
   "outputs": [],
   "source": []
  }
 ],
 "metadata": {
  "kernelspec": {
   "display_name": "Python 3",
   "language": "python",
   "name": "python3"
  },
  "language_info": {
   "codemirror_mode": {
    "name": "ipython",
    "version": 3
   },
   "file_extension": ".py",
   "mimetype": "text/x-python",
   "name": "python",
   "nbconvert_exporter": "python",
   "pygments_lexer": "ipython3",
   "version": "3.6.9"
  }
 },
 "nbformat": 4,
 "nbformat_minor": 4
}
